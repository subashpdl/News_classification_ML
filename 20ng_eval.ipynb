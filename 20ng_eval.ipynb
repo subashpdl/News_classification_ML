{
 "cells": [
  {
   "cell_type": "code",
   "execution_count": 16,
   "metadata": {
    "id": "ughM9j_vIQaU"
   },
   "outputs": [],
   "source": [
    "#from google.colab import files"
   ]
  },
  {
   "cell_type": "code",
   "execution_count": 17,
   "metadata": {
    "colab": {
     "base_uri": "https://localhost:8080/",
     "height": 34
    },
    "id": "v5FVs0D0IUc7",
    "outputId": "5dd16578-f123-414e-ecd7-4e3e0084e09f"
   },
   "outputs": [],
   "source": [
    "#from google.colab import drive\n",
    "#gdrivepath = '/content/drive'\n",
    "#drive.mount(gdrivepath)\n",
    "#BASE_PATH = gdrivepath + \"/My Drive/nlp-text-classification/\""
   ]
  },
  {
   "cell_type": "code",
   "execution_count": null,
   "metadata": {},
   "outputs": [],
   "source": []
  },
  {
   "cell_type": "code",
   "execution_count": 18,
   "metadata": {
    "id": "3xPiZS5KL6QM"
   },
   "outputs": [],
   "source": [
    "import json\n",
    "import os\n",
    "import re\n",
    "import sys\n",
    "import unicodedata\n",
    "\n",
    "import numpy as np\n",
    "import pandas as pd\n",
    "from tensorflow.keras.layers import (LSTM, Conv1D, Dense, Embedding, Flatten,\n",
    "                          GlobalMaxPooling1D, Input, MaxPooling1D)\n",
    "from tensorflow.keras.models import Model, Sequential\n",
    "from tensorflow.keras.preprocessing.sequence import pad_sequences\n",
    "from tensorflow.keras.preprocessing.text import Tokenizer\n",
    "from tensorflow.keras.utils import to_categorical\n",
    "from sklearn import metrics\n",
    "from sklearn.feature_extraction.text import CountVectorizer, TfidfTransformer\n",
    "from sklearn.model_selection import train_test_split\n",
    "from sklearn.naive_bayes import BernoulliNB, MultinomialNB\n",
    "from sklearn.pipeline import Pipeline\n",
    "\n",
    "\n",
    "class Logger(object):\n",
    "    def __init__(self, filename=\"Default.log\"):\n",
    "        self.terminal = sys.stdout\n",
    "        self.log = open(filename, \"w\")\n",
    "\n",
    "    def write(self, message):\n",
    "        self.terminal.write(message)\n",
    "        self.log.write(message)\n",
    "\n",
    "    def flush(self):\n",
    "        self.log.flush()\n",
    "\n",
    "    def close(self):\n",
    "        self.log.close()\n",
    "\n",
    "\n",
    "#sys.stdout = Logger(BASE_PATH + \"eval.log\")"
   ]
  },
  {
   "cell_type": "markdown",
   "metadata": {
    "id": "bYx7gwzSnBUh"
   },
   "source": [
    "## Preprocessing\n",
    "---\n",
    "\n"
   ]
  },
  {
   "cell_type": "code",
   "execution_count": 22,
   "metadata": {
    "colab": {
     "base_uri": "https://localhost:8080/",
     "height": 170
    },
    "id": "PRuT9YXXMJbk",
    "outputId": "d1eed9b6-771d-49df-8c5d-e9e89438b0c0"
   },
   "outputs": [
    {
     "name": "stdout",
     "output_type": "stream",
     "text": [
      "Loading word vectors...\n",
      "Found 400000 word vectors.\n",
      "Processing text dataset\n",
      "Loaded 18846 texts.\n",
      "Found 87701 unique tokens.\n",
      "Shape of texts tensor: (18846, 100)\n",
      "Shape of label tensor: (18846, 20)\n",
      "Preparing embedding matrix.\n",
      "Generating embedding matrices\n"
     ]
    }
   ],
   "source": [
    "GLOVE_FILE = \"glove.6B.100d.txt\"\n",
    "DATA_FILE = \"twentyng_processed.json\"\n",
    "MAX_SEQUENCE_LENGTH = 100\n",
    "MAX_NUM_WORDS = 30000\n",
    "EMBEDDING_DIM = 100\n",
    "VALIDATION_SPLIT = 0.2\n",
    "\n",
    "# first, build index mapping words in the embeddings set\n",
    "# to their embedding vector\n",
    "print('Loading word vectors...')\n",
    "\n",
    "embeddings_index = {}\n",
    "with open(GLOVE_FILE,  encoding=\"utf8\") as f:\n",
    "    for line in f:\n",
    "        values = line.split()\n",
    "        word = values[0]\n",
    "        coefs = np.asarray(values[1:], dtype='float32')\n",
    "        embeddings_index[word] = coefs\n",
    "\n",
    "print(\"Found %s word vectors.\" % len(embeddings_index))\n",
    "\n",
    "# second, prepare text samples and their labels\n",
    "print(\"Processing text dataset\")\n",
    "\n",
    "with open(DATA_FILE, \"r\") as f:\n",
    "    data = json.load(f)\n",
    "\n",
    "texts_cleaned = [d[\"cleaned\"] for d in data[\"data\"]]  # list of text samples\n",
    "texts_cleaned_stemmed = [d[\"cleaned_stemmed\"] for d in data[\"data\"]] # list of text samples\n",
    "\n",
    "# dictionary mapping label name to numeric id\n",
    "label_id_to_str = data[\"label_id_to_str\"]\n",
    "# list of labels for each text in texts as an id\n",
    "labels_id = [d[\"label_id\"] for d in data[\"data\"]]\n",
    "# list of labels for each text in texts as an id\n",
    "labels_str = [d[\"label_str\"] for d in data[\"data\"]]\n",
    "\n",
    "print(\"Loaded %s texts.\" % len(texts_cleaned))\n",
    "\n",
    "# finally, vectorize the text samples into a 2D integer tensor\n",
    "\"\"\"\n",
    "Keras provides a Tokenizer class that can be fit on the training data, can convert text to sequences consistently by \n",
    "calling the texts_to_sequences() method on the Tokenizer class, and provides access to the dictionary \n",
    "mapping of words to integers in a word_index attribute.\n",
    "\"\"\"\n",
    "tokenizer = Tokenizer(num_words=MAX_NUM_WORDS)\n",
    "tokenizer.fit_on_texts(texts_cleaned)\n",
    "sequences = tokenizer.texts_to_sequences(texts_cleaned)\n",
    "# max sequence length is the maximum number of words in a blog post\n",
    "texts_cleaned_padded = pad_sequences(sequences, maxlen=MAX_SEQUENCE_LENGTH)\n",
    "# input are vectors [] length max_sequence_length with [id, id, id, id, pad, pad, pad]\n",
    "word_index = tokenizer.word_index\n",
    "print('Found %s unique tokens.' % len(word_index))\n",
    "type(texts_cleaned_padded)\n",
    "type(word_index)\n",
    "# one hot encode the output variable\n",
    "labels_id = to_categorical(np.asarray(labels_id))\n",
    "print('Shape of texts tensor:', texts_cleaned_padded.shape)\n",
    "print('Shape of label tensor:', labels_id.shape)\n",
    "#print(texts_cleaned_stemmed[:5])\n",
    "#print(labels_id)\n",
    "#print(\"String\", labels_str)\n",
    "#print(\"label id to str\", label_id_to_str)\n",
    "print('Preparing embedding matrix.')\n",
    "\n",
    "embeddings_index_reduced = {}\n",
    "# prepare embedding matrix\n",
    "num_words = min(MAX_NUM_WORDS, len(word_index) + 1)\n",
    "embedding_matrix = np.zeros((num_words, EMBEDDING_DIM))\n",
    "\n",
    "for word, i in word_index.items():\n",
    "    if i >= MAX_NUM_WORDS:\n",
    "        continue\n",
    "    embedding_vector = embeddings_index.get(word)\n",
    "    if embedding_vector is not None:\n",
    "        # words not found in embedding index will be all-zeros.\n",
    "        embedding_matrix[i] = embedding_vector\n",
    "        embeddings_index_reduced[word] = embedding_vector\n",
    "\n",
    "\n",
    "# split the data into a training set and a validation set\n",
    "train_texts_stemmed, test_texts_stemmed, train_texts_cleaned, test_texts_cleaned, train_labels_id, test_labels_id, train_labels_str, test_labels_str = train_test_split(\n",
    "    texts_cleaned_stemmed, texts_cleaned_padded, labels_id, labels_str, test_size=VALIDATION_SPLIT, random_state=42, stratify=labels_str)\n",
    "\n",
    "print(\"Generating embedding matrices\")\n",
    "# load pre-trained word embeddings into an Embedding layer\n",
    "# note that we set trainable = False so as to keep the embeddings fixed\n",
    "embedding_layer_globve = Embedding(num_words,\n",
    "                                   EMBEDDING_DIM,\n",
    "                                   weights=[embedding_matrix],\n",
    "                                   input_length=MAX_SEQUENCE_LENGTH,\n",
    "                                   trainable=False)\n",
    "\n",
    "embedding_layer = Embedding(len(word_index) + 1,\n",
    "                            EMBEDDING_DIM,\n",
    "                            weights=[embedding_matrix],\n",
    "                            input_length=MAX_SEQUENCE_LENGTH,\n",
    "                            trainable=True,\n",
    "                            mask_zero=True)\n",
    "\n",
    "def get_embedding_layer_globve_trainable():\n",
    "  em = np.copy(embedding_matrix)\n",
    "  return Embedding(num_words,EMBEDDING_DIM,weights=[em],input_length=MAX_SEQUENCE_LENGTH,trainable=True)\n",
    "   \n",
    "\n",
    "def get_embedding_layer_empty():\n",
    "  return Embedding(len(word_index) + 1,EMBEDDING_DIM,input_length=MAX_SEQUENCE_LENGTH)\n"
   ]
  },
  {
   "cell_type": "markdown",
   "metadata": {
    "id": "--oF8Jj4nKKm"
   },
   "source": [
    "## Naive Bayes\n",
    "\n",
    "---\n",
    "\n"
   ]
  },
  {
   "cell_type": "code",
   "execution_count": 5,
   "metadata": {
    "colab": {
     "base_uri": "https://localhost:8080/",
     "height": 527
    },
    "id": "btqWQCWkMfA_",
    "outputId": "70028de2-69c5-44b7-f9e1-b10a8ecafcba"
   },
   "outputs": [
    {
     "name": "stdout",
     "output_type": "stream",
     "text": [
      "Training baseline model.\n",
      "NB BASE LINE\n",
      "                          precision    recall  f1-score   support\n",
      "\n",
      "             alt.atheism       0.39      0.69      0.50       160\n",
      "           comp.graphics       0.66      0.68      0.67       195\n",
      " comp.os.ms-windows.misc       0.72      0.69      0.70       197\n",
      "comp.sys.ibm.pc.hardware       0.65      0.75      0.70       196\n",
      "   comp.sys.mac.hardware       0.81      0.76      0.78       193\n",
      "          comp.windows.x       0.84      0.83      0.84       198\n",
      "            misc.forsale       0.81      0.76      0.79       195\n",
      "               rec.autos       0.80      0.73      0.76       198\n",
      "         rec.motorcycles       0.81      0.72      0.76       199\n",
      "      rec.sport.baseball       0.91      0.81      0.86       199\n",
      "        rec.sport.hockey       0.92      0.88      0.90       200\n",
      "               sci.crypt       0.80      0.74      0.77       198\n",
      "         sci.electronics       0.76      0.62      0.69       197\n",
      "                 sci.med       0.90      0.83      0.86       198\n",
      "               sci.space       0.89      0.80      0.84       197\n",
      "  soc.religion.christian       0.74      0.86      0.79       199\n",
      "      talk.politics.guns       0.67      0.79      0.72       182\n",
      "   talk.politics.mideast       0.87      0.87      0.87       188\n",
      "      talk.politics.misc       0.62      0.62      0.62       155\n",
      "      talk.religion.misc       0.56      0.39      0.46       126\n",
      "\n",
      "                accuracy                           0.75      3770\n",
      "               macro avg       0.76      0.74      0.74      3770\n",
      "            weighted avg       0.76      0.75      0.75      3770\n",
      "\n",
      "0.7488063660477453\n"
     ]
    }
   ],
   "source": [
    "print('Training baseline model.')\n",
    "\n",
    "text_clf = Pipeline([('vect', CountVectorizer(analyzer=\"word\",\n",
    "                                              tokenizer=None,  # irrelevant, we do this manually beforehand\n",
    "                                              preprocessor=None,  # irrelevant, we do this manually beforehand\n",
    "                                              lowercase=True,  # irrelevant, we already do this\n",
    "                                              max_features=MAX_NUM_WORDS,  # limit dictionary\n",
    "                                              )),\n",
    "                     # found by grid search\n",
    "                     ('tfidf', TfidfTransformer(use_idf=True)),\n",
    "                     # found by grid search\n",
    "                     ('clf', MultinomialNB(alpha=0.015, fit_prior=False)),\n",
    "                     ])\n",
    "\n",
    "print(\"NB BASE LINE\")\n",
    "text_clf = text_clf.fit(train_texts_stemmed, train_labels_str)\n",
    "predicted = text_clf.predict(test_texts_stemmed)\n",
    "print(metrics.classification_report(test_labels_str, predicted))\n",
    "print(np.mean(predicted == test_labels_str))"
   ]
  },
  {
   "cell_type": "markdown",
   "metadata": {
    "id": "ZLZ-3xFvKLDL"
   },
   "source": [
    "## Logistic Regression\n",
    "\n",
    "\n",
    "---\n",
    "\n"
   ]
  },
  {
   "cell_type": "code",
   "execution_count": 6,
   "metadata": {
    "colab": {
     "base_uri": "https://localhost:8080/",
     "height": 841
    },
    "id": "yroI1MmKJGvN",
    "outputId": "f7f38ee0-f77c-400c-88ce-d4eb9d340747"
   },
   "outputs": [
    {
     "name": "stderr",
     "output_type": "stream",
     "text": [
      "C:\\Users\\subas\\anaconda3\\lib\\site-packages\\sklearn\\linear_model\\_logistic.py:762: ConvergenceWarning: lbfgs failed to converge (status=1):\n",
      "STOP: TOTAL NO. of ITERATIONS REACHED LIMIT.\n",
      "\n",
      "Increase the number of iterations (max_iter) or scale the data as shown in:\n",
      "    https://scikit-learn.org/stable/modules/preprocessing.html\n",
      "Please also refer to the documentation for alternative solver options:\n",
      "    https://scikit-learn.org/stable/modules/linear_model.html#logistic-regression\n",
      "  n_iter_i = _check_optimize_result(\n"
     ]
    },
    {
     "name": "stdout",
     "output_type": "stream",
     "text": [
      "                          precision    recall  f1-score   support\n",
      "\n",
      "             alt.atheism       0.67      0.62      0.64       160\n",
      "           comp.graphics       0.69      0.66      0.68       195\n",
      " comp.os.ms-windows.misc       0.68      0.70      0.69       197\n",
      "comp.sys.ibm.pc.hardware       0.65      0.65      0.65       196\n",
      "   comp.sys.mac.hardware       0.79      0.76      0.77       193\n",
      "          comp.windows.x       0.80      0.80      0.80       198\n",
      "            misc.forsale       0.79      0.74      0.76       195\n",
      "               rec.autos       0.49      0.76      0.60       198\n",
      "         rec.motorcycles       0.81      0.72      0.76       199\n",
      "      rec.sport.baseball       0.82      0.81      0.82       199\n",
      "        rec.sport.hockey       0.89      0.88      0.89       200\n",
      "               sci.crypt       0.85      0.71      0.77       198\n",
      "         sci.electronics       0.71      0.63      0.67       197\n",
      "                 sci.med       0.82      0.86      0.84       198\n",
      "               sci.space       0.83      0.77      0.80       197\n",
      "  soc.religion.christian       0.71      0.79      0.75       199\n",
      "      talk.politics.guns       0.68      0.71      0.70       182\n",
      "   talk.politics.mideast       0.85      0.83      0.84       188\n",
      "      talk.politics.misc       0.55      0.60      0.57       155\n",
      "      talk.religion.misc       0.48      0.35      0.41       126\n",
      "\n",
      "                accuracy                           0.73      3770\n",
      "               macro avg       0.73      0.72      0.72      3770\n",
      "            weighted avg       0.73      0.73      0.73      3770\n",
      "\n",
      "accuracy 0.7273209549071618\n"
     ]
    }
   ],
   "source": [
    "from sklearn.linear_model import LogisticRegression\n",
    "from sklearn.metrics import accuracy_score, confusion_matrix\n",
    "\n",
    "logreg = Pipeline([('vect', CountVectorizer()),\n",
    "                   ('tfidf', TfidfTransformer()),\n",
    "                   ('clf', LogisticRegression(n_jobs=1, C=1e5)),\n",
    "                  ])\n",
    "\n",
    "logreg.fit(train_texts_stemmed, train_labels_str)\n",
    "\n",
    "predicted = logreg.predict(test_texts_stemmed)\n",
    "\n",
    "print(metrics.classification_report(test_labels_str, predicted))\n",
    "print('accuracy %s' % accuracy_score(test_labels_str, predicted))\n",
    "#print(classification_report(test_labels_str, predicted))"
   ]
  },
  {
   "cell_type": "markdown",
   "metadata": {},
   "source": [
    "# Decision Tree"
   ]
  },
  {
   "cell_type": "code",
   "execution_count": 7,
   "metadata": {},
   "outputs": [
    {
     "name": "stdout",
     "output_type": "stream",
     "text": [
      "                          precision    recall  f1-score   support\n",
      "\n",
      "             alt.atheism       0.35      0.34      0.34       160\n",
      "           comp.graphics       0.37      0.36      0.37       195\n",
      " comp.os.ms-windows.misc       0.38      0.39      0.39       197\n",
      "comp.sys.ibm.pc.hardware       0.36      0.36      0.36       196\n",
      "   comp.sys.mac.hardware       0.48      0.40      0.44       193\n",
      "          comp.windows.x       0.48      0.49      0.49       198\n",
      "            misc.forsale       0.48      0.50      0.49       195\n",
      "               rec.autos       0.25      0.45      0.32       198\n",
      "         rec.motorcycles       0.54      0.44      0.49       199\n",
      "      rec.sport.baseball       0.56      0.49      0.53       199\n",
      "        rec.sport.hockey       0.67      0.70      0.69       200\n",
      "               sci.crypt       0.64      0.57      0.60       198\n",
      "         sci.electronics       0.32      0.30      0.31       197\n",
      "                 sci.med       0.49      0.50      0.50       198\n",
      "               sci.space       0.51      0.43      0.47       197\n",
      "  soc.religion.christian       0.44      0.50      0.47       199\n",
      "      talk.politics.guns       0.36      0.35      0.36       182\n",
      "   talk.politics.mideast       0.67      0.64      0.66       188\n",
      "      talk.politics.misc       0.32      0.27      0.29       155\n",
      "      talk.religion.misc       0.22      0.17      0.19       126\n",
      "\n",
      "                accuracy                           0.44      3770\n",
      "               macro avg       0.44      0.43      0.44      3770\n",
      "            weighted avg       0.45      0.44      0.44      3770\n",
      "\n",
      "accuracy 0.44217506631299736\n"
     ]
    }
   ],
   "source": [
    "from sklearn.tree import DecisionTreeClassifier\n",
    "from sklearn.metrics import accuracy_score, confusion_matrix\n",
    "\n",
    "\n",
    "dtree = Pipeline([('vect', CountVectorizer()),\n",
    "                   ('tfidf', TfidfTransformer()),\n",
    "                   ('dt', DecisionTreeClassifier())\n",
    "                  ])\n",
    "\n",
    "dtree.fit(train_texts_stemmed, train_labels_str)\n",
    "\n",
    "predicted = dtree.predict(test_texts_stemmed)\n",
    "\n",
    "print(metrics.classification_report(test_labels_str, predicted))\n",
    "print('accuracy %s' % accuracy_score(test_labels_str, predicted))\n",
    "#print(classification_report(test_labels_str, predicted))"
   ]
  },
  {
   "cell_type": "code",
   "execution_count": null,
   "metadata": {},
   "outputs": [],
   "source": []
  },
  {
   "cell_type": "markdown",
   "metadata": {},
   "source": [
    "# Random Forest"
   ]
  },
  {
   "cell_type": "code",
   "execution_count": 8,
   "metadata": {},
   "outputs": [
    {
     "name": "stdout",
     "output_type": "stream",
     "text": [
      "                          precision    recall  f1-score   support\n",
      "\n",
      "             alt.atheism       0.53      0.52      0.53       160\n",
      "           comp.graphics       0.55      0.52      0.54       195\n",
      " comp.os.ms-windows.misc       0.58      0.61      0.60       197\n",
      "comp.sys.ibm.pc.hardware       0.61      0.59      0.60       196\n",
      "   comp.sys.mac.hardware       0.71      0.65      0.68       193\n",
      "          comp.windows.x       0.63      0.73      0.68       198\n",
      "            misc.forsale       0.64      0.76      0.70       195\n",
      "               rec.autos       0.39      0.71      0.50       198\n",
      "         rec.motorcycles       0.67      0.59      0.63       199\n",
      "      rec.sport.baseball       0.76      0.71      0.74       199\n",
      "        rec.sport.hockey       0.77      0.84      0.80       200\n",
      "               sci.crypt       0.82      0.70      0.75       198\n",
      "         sci.electronics       0.60      0.39      0.47       197\n",
      "                 sci.med       0.75      0.76      0.75       198\n",
      "               sci.space       0.73      0.71      0.72       197\n",
      "  soc.religion.christian       0.67      0.80      0.73       199\n",
      "      talk.politics.guns       0.60      0.69      0.64       182\n",
      "   talk.politics.mideast       0.80      0.79      0.80       188\n",
      "      talk.politics.misc       0.63      0.41      0.50       155\n",
      "      talk.religion.misc       0.31      0.09      0.14       126\n",
      "\n",
      "                accuracy                           0.64      3770\n",
      "               macro avg       0.64      0.63      0.62      3770\n",
      "            weighted avg       0.65      0.64      0.64      3770\n",
      "\n",
      "accuracy 0.6416445623342175\n"
     ]
    }
   ],
   "source": [
    "from sklearn.ensemble import RandomForestClassifier\n",
    "from sklearn.metrics import accuracy_score, confusion_matrix\n",
    "\n",
    "\n",
    "rforest = Pipeline([('vect', CountVectorizer()),\n",
    "                   ('tfidf', TfidfTransformer()),\n",
    "                   ('rf',RandomForestClassifier ())\n",
    "                  ])\n",
    "\n",
    "rforest.fit(train_texts_stemmed, train_labels_str)\n",
    "\n",
    "predicted = rforest.predict(test_texts_stemmed)\n",
    "\n",
    "print(metrics.classification_report(test_labels_str, predicted))\n",
    "print('accuracy %s' % accuracy_score(test_labels_str, predicted))\n",
    "#print(classification_report(test_labels_str, predicted))"
   ]
  },
  {
   "cell_type": "markdown",
   "metadata": {
    "id": "UEwOCJp5WFLX"
   },
   "source": [
    "## Linear SVM\n",
    "\n",
    "---\n",
    "SGD uses only a single sample, i.e., a batch size of one, to perform each iteration. The sample is randomly shuffled and selected for performing the iteration."
   ]
  },
  {
   "cell_type": "code",
   "execution_count": 23,
   "metadata": {
    "colab": {
     "base_uri": "https://localhost:8080/",
     "height": 567
    },
    "id": "R31KpfuxLZHv",
    "outputId": "77acc5a4-3f39-4b4c-873f-7e2b6e24e5dd"
   },
   "outputs": [
    {
     "name": "stdout",
     "output_type": "stream",
     "text": [
      "accuracy 0.7116710875331564\n",
      "                          precision    recall  f1-score   support\n",
      "\n",
      "             alt.atheism       0.72      0.51      0.60       160\n",
      "           comp.graphics       0.71      0.66      0.68       195\n",
      " comp.os.ms-windows.misc       0.66      0.64      0.65       197\n",
      "comp.sys.ibm.pc.hardware       0.71      0.69      0.70       196\n",
      "   comp.sys.mac.hardware       0.83      0.75      0.79       193\n",
      "          comp.windows.x       0.80      0.77      0.78       198\n",
      "            misc.forsale       0.76      0.77      0.76       195\n",
      "               rec.autos       0.73      0.75      0.74       198\n",
      "         rec.motorcycles       0.48      0.72      0.57       199\n",
      "      rec.sport.baseball       0.78      0.76      0.77       199\n",
      "        rec.sport.hockey       0.77      0.90      0.83       200\n",
      "               sci.crypt       0.74      0.76      0.75       198\n",
      "         sci.electronics       0.70      0.50      0.58       197\n",
      "                 sci.med       0.75      0.88      0.81       198\n",
      "               sci.space       0.78      0.81      0.80       197\n",
      "  soc.religion.christian       0.61      0.85      0.71       199\n",
      "      talk.politics.guns       0.66      0.77      0.71       182\n",
      "   talk.politics.mideast       0.78      0.86      0.82       188\n",
      "      talk.politics.misc       0.72      0.44      0.55       155\n",
      "      talk.religion.misc       0.64      0.14      0.23       126\n",
      "\n",
      "                accuracy                           0.71      3770\n",
      "               macro avg       0.72      0.70      0.69      3770\n",
      "            weighted avg       0.72      0.71      0.70      3770\n",
      "\n"
     ]
    }
   ],
   "source": [
    "from sklearn.linear_model import SGDClassifier\n",
    "\n",
    "sgd = Pipeline([('vect', CountVectorizer()),\n",
    "                ('tfidf', TfidfTransformer()),\n",
    "                ('clf', SGDClassifier(loss='hinge', penalty='l2',alpha=1e-3, random_state=42, max_iter=5, tol=None)),\n",
    "               ])\n",
    "\n",
    "sgd.fit(train_texts_stemmed, train_labels_str)\n",
    "predicted = sgd.predict(test_texts_stemmed)\n",
    "\n",
    "print('accuracy %s' % accuracy_score(test_labels_str, predicted))\n",
    "\n",
    "print(metrics.classification_report(test_labels_str, predicted))"
   ]
  },
  {
   "cell_type": "markdown",
   "metadata": {
    "id": "ZprNHCbihKhi"
   },
   "source": [
    "## Doc2Vec"
   ]
  },
  {
   "cell_type": "code",
   "execution_count": 10,
   "metadata": {
    "colab": {
     "base_uri": "https://localhost:8080/",
     "height": 544
    },
    "id": "n7RXohHqc01S",
    "outputId": "29f86f19-e86d-4200-9429-cf62ac9ce8c2"
   },
   "outputs": [
    {
     "name": "stderr",
     "output_type": "stream",
     "text": [
      "C:\\Users\\subas\\anaconda3\\lib\\site-packages\\tqdm\\std.py:697: FutureWarning: The Panel class is removed from pandas. Accessing it from the top-level namespace will also be removed in the next version\n",
      "  from pandas import Panel\n",
      "C:\\Users\\subas\\anaconda3\\lib\\site-packages\\gensim\\similarities\\__init__.py:15: UserWarning: The gensim.similarities.levenshtein submodule is disabled, because the optional Levenshtein package <https://pypi.org/project/python-Levenshtein/> is unavailable. Install Levenhstein (e.g. `pip install python-Levenshtein`) to suppress this warning.\n",
      "  warnings.warn(msg)\n",
      "100%|███████████████████████████████████████████████████████████████████████| 18846/18846 [00:00<00:00, 1054507.11it/s]\n",
      "100%|███████████████████████████████████████████████████████████████████████| 18846/18846 [00:00<00:00, 1000263.88it/s]\n",
      "100%|████████████████████████████████████████████████████████████████████████████████████| 18846/18846 [00:00<?, ?it/s]\n",
      "100%|███████████████████████████████████████████████████████████████████████| 18846/18846 [00:00<00:00, 1034401.42it/s]\n",
      "100%|███████████████████████████████████████████████████████████████████████| 18846/18846 [00:00<00:00, 1470976.30it/s]\n",
      "100%|███████████████████████████████████████████████████████████████████████| 18846/18846 [00:00<00:00, 1868784.65it/s]\n",
      "100%|████████████████████████████████████████████████████████████████████████████████████| 18846/18846 [00:00<?, ?it/s]\n",
      "100%|████████████████████████████████████████████████████████████████████████| 18846/18846 [00:00<00:00, 824338.86it/s]\n",
      "100%|████████████████████████████████████████████████████████████████████████| 18846/18846 [00:00<00:00, 710914.33it/s]\n",
      "100%|████████████████████████████████████████████████████████████████████████████████████| 18846/18846 [00:00<?, ?it/s]\n",
      "100%|███████████████████████████████████████████████████████████████████████| 18846/18846 [00:00<00:00, 1259674.80it/s]\n",
      "100%|███████████████████████████████████████████████████████████████████████| 18846/18846 [00:00<00:00, 1731221.73it/s]\n",
      "100%|███████████████████████████████████████████████████████████████████████| 18846/18846 [00:00<00:00, 1781114.31it/s]\n",
      "100%|████████████████████████████████████████████████████████████████████████| 18846/18846 [00:00<00:00, 817535.30it/s]\n",
      "100%|████████████████████████████████████████████████████████████████████████| 18846/18846 [00:00<00:00, 716228.60it/s]\n",
      "100%|███████████████████████████████████████████████████████████████████████| 18846/18846 [00:00<00:00, 1571456.89it/s]\n",
      "100%|████████████████████████████████████████████████████████████████████████| 18846/18846 [00:00<00:00, 636563.05it/s]\n",
      "100%|████████████████████████████████████████████████████████████████████████| 18846/18846 [00:00<00:00, 823102.79it/s]\n",
      "100%|███████████████████████████████████████████████████████████████████████| 18846/18846 [00:00<00:00, 1016065.78it/s]\n",
      "100%|████████████████████████████████████████████████████████████████████████| 18846/18846 [00:00<00:00, 425588.63it/s]\n",
      "100%|████████████████████████████████████████████████████████████████████████| 18846/18846 [00:00<00:00, 941055.67it/s]\n",
      "100%|████████████████████████████████████████████████████████████████████████| 18846/18846 [00:00<00:00, 526291.68it/s]\n",
      "100%|████████████████████████████████████████████████████████████████████████████████████| 18846/18846 [00:00<?, ?it/s]\n",
      "100%|████████████████████████████████████████████████████████████████████████| 18846/18846 [00:00<00:00, 976441.31it/s]\n",
      "100%|████████████████████████████████████████████████████████████████████████| 18846/18846 [00:00<00:00, 544884.53it/s]\n",
      "100%|████████████████████████████████████████████████████████████████████████| 18846/18846 [00:00<00:00, 987937.32it/s]\n",
      "100%|███████████████████████████████████████████████████████████████████████| 18846/18846 [00:00<00:00, 1665490.68it/s]\n",
      "100%|███████████████████████████████████████████████████████████████████████| 18846/18846 [00:00<00:00, 1064332.60it/s]\n",
      "100%|████████████████████████████████████████████████████████████████████████| 18846/18846 [00:00<00:00, 855604.24it/s]\n",
      "100%|███████████████████████████████████████████████████████████████████████| 18846/18846 [00:00<00:00, 1066716.87it/s]\n",
      "100%|████████████████████████████████████████████████████████████████████████| 18846/18846 [00:00<00:00, 706353.07it/s]\n"
     ]
    }
   ],
   "source": [
    "######Doc2Vec######\n",
    "from tqdm import tqdm\n",
    "tqdm.pandas(desc=\"progress-bar\")\n",
    "#!pip install gensim\n",
    "from gensim.models import Doc2Vec\n",
    "from sklearn import utils\n",
    "import gensim\n",
    "from gensim.models.doc2vec import TaggedDocument, Doc2Vec\n",
    "import re\n",
    "\n",
    "def label_sentences(corpus, label_type):\n",
    "    labeled = []\n",
    "    for i, v in enumerate(corpus):\n",
    "        label = label_type + '_' + str(i)\n",
    "        labeled.append(TaggedDocument(v, [label]))\n",
    "    return labeled\n",
    "\n",
    "x_train = label_sentences(train_texts_stemmed, 'Train')\n",
    "x_test = label_sentences(test_texts_stemmed, 'Test')\n",
    "\n",
    "all_data = x_train + x_test\n",
    "\n",
    "model_dbow = Doc2Vec(dm=0, vector_size=300, negative=5, min_count=1, alpha=0.065, min_alpha=0.065)\n",
    "model_dbow.build_vocab([x for x in tqdm(all_data)])\n",
    "\n",
    "for epoch in range(30):\n",
    "    model_dbow.train(utils.shuffle([x for x in tqdm(all_data)]), total_examples=len(all_data), epochs=1)\n",
    "    model_dbow.alpha -= 0.002\n",
    "    model_dbow.min_alpha = model_dbow.alpha"
   ]
  },
  {
   "cell_type": "code",
   "execution_count": 11,
   "metadata": {
    "colab": {
     "base_uri": "https://localhost:8080/",
     "height": 669
    },
    "id": "R2bWzsRB7wU2",
    "outputId": "58f70d5b-2c5e-4f33-da4e-d9bed0911a77"
   },
   "outputs": [
    {
     "name": "stderr",
     "output_type": "stream",
     "text": [
      "<ipython-input-11-60e246afbb9b>:16: DeprecationWarning: Call to deprecated `docvecs` (The `docvecs` property has been renamed `dv`.).\n",
      "  vectors[i] = model.docvecs[prefix]\n",
      "C:\\Users\\subas\\anaconda3\\lib\\site-packages\\sklearn\\linear_model\\_logistic.py:762: ConvergenceWarning: lbfgs failed to converge (status=1):\n",
      "STOP: TOTAL NO. of ITERATIONS REACHED LIMIT.\n",
      "\n",
      "Increase the number of iterations (max_iter) or scale the data as shown in:\n",
      "    https://scikit-learn.org/stable/modules/preprocessing.html\n",
      "Please also refer to the documentation for alternative solver options:\n",
      "    https://scikit-learn.org/stable/modules/linear_model.html#logistic-regression\n",
      "  n_iter_i = _check_optimize_result(\n"
     ]
    },
    {
     "name": "stdout",
     "output_type": "stream",
     "text": [
      "accuracy 0.19575596816976126\n",
      "                          precision    recall  f1-score   support\n",
      "\n",
      "             alt.atheism       0.17      0.12      0.14       160\n",
      "           comp.graphics       0.14      0.16      0.15       195\n",
      " comp.os.ms-windows.misc       0.20      0.18      0.19       197\n",
      "comp.sys.ibm.pc.hardware       0.24      0.26      0.25       196\n",
      "   comp.sys.mac.hardware       0.19      0.13      0.16       193\n",
      "          comp.windows.x       0.29      0.49      0.37       198\n",
      "            misc.forsale       0.20      0.19      0.20       195\n",
      "               rec.autos       0.11      0.15      0.13       198\n",
      "         rec.motorcycles       0.20      0.18      0.19       199\n",
      "      rec.sport.baseball       0.19      0.26      0.22       199\n",
      "        rec.sport.hockey       0.23      0.27      0.24       200\n",
      "               sci.crypt       0.21      0.26      0.23       198\n",
      "         sci.electronics       0.10      0.06      0.07       197\n",
      "                 sci.med       0.19      0.20      0.19       198\n",
      "               sci.space       0.07      0.05      0.05       197\n",
      "  soc.religion.christian       0.20      0.26      0.22       199\n",
      "      talk.politics.guns       0.13      0.08      0.10       182\n",
      "   talk.politics.mideast       0.31      0.44      0.36       188\n",
      "      talk.politics.misc       0.11      0.03      0.05       155\n",
      "      talk.religion.misc       0.09      0.04      0.06       126\n",
      "\n",
      "                accuracy                           0.20      3770\n",
      "               macro avg       0.18      0.19      0.18      3770\n",
      "            weighted avg       0.18      0.20      0.18      3770\n",
      "\n"
     ]
    },
    {
     "name": "stderr",
     "output_type": "stream",
     "text": [
      "C:\\Users\\subas\\anaconda3\\lib\\site-packages\\sklearn\\linear_model\\_logistic.py:762: ConvergenceWarning: lbfgs failed to converge (status=1):\n",
      "STOP: TOTAL NO. of ITERATIONS REACHED LIMIT.\n",
      "\n",
      "Increase the number of iterations (max_iter) or scale the data as shown in:\n",
      "    https://scikit-learn.org/stable/modules/preprocessing.html\n",
      "Please also refer to the documentation for alternative solver options:\n",
      "    https://scikit-learn.org/stable/modules/linear_model.html#logistic-regression\n",
      "  n_iter_i = _check_optimize_result(\n"
     ]
    }
   ],
   "source": [
    "from sklearn.linear_model import LogisticRegression\n",
    "from sklearn.metrics import accuracy_score, confusion_matrix\n",
    "\n",
    "def get_vectors(model, corpus_size, vectors_size, vectors_type):\n",
    "    \"\"\"\n",
    "    Get vectors from trained doc2vec model\n",
    "    :param doc2vec_model: Trained Doc2Vec model\n",
    "    :param corpus_size: Size of the data\n",
    "    :param vectors_size: Size of the embedding vectors\n",
    "    :param vectors_type: Training or Testing vectors\n",
    "    :return: list of vectors\n",
    "    \"\"\"\n",
    "    vectors = np.zeros((corpus_size, vectors_size))\n",
    "    for i in range(0, corpus_size):\n",
    "        prefix = vectors_type + '_' + str(i)\n",
    "        vectors[i] = model.docvecs[prefix]\n",
    "    return vectors\n",
    "    \n",
    "train_vectors_dbow = get_vectors(model_dbow, len(x_train), 300, 'Train')\n",
    "test_vectors_dbow = get_vectors(model_dbow, len(x_test), 300, 'Test')\n",
    "\n",
    "logreg = LogisticRegression(n_jobs=1, C=1e5)\n",
    "logreg.fit(train_vectors_dbow, train_labels_str)\n",
    "logreg = logreg.fit(train_vectors_dbow, train_labels_str)\n",
    "y_pred = logreg.predict(test_vectors_dbow)\n",
    "print('accuracy %s' % accuracy_score(y_pred, test_labels_str))\n",
    "print(metrics.classification_report(test_labels_str, y_pred))"
   ]
  },
  {
   "cell_type": "code",
   "execution_count": 12,
   "metadata": {
    "id": "qdxyuPz6ip8O"
   },
   "outputs": [],
   "source": [
    "import matplotlib.pyplot as plt\n",
    "plt.style.use('ggplot')\n",
    "\n",
    "def plot_history(history, desc):\n",
    "    acc = history.history['acc']\n",
    "    val_acc = history.history['val_acc']\n",
    "    loss = history.history['loss']\n",
    "    val_loss = history.history['val_loss']\n",
    "    x = range(1, len(acc) + 1)\n",
    "\n",
    "    plt.figure(figsize=(12, 5))\n",
    "    plt.subplot(1, 2, 1)\n",
    "    plt.plot(x, acc, 'b', label='Training acc')\n",
    "    plt.plot(x, val_acc, 'r', label='Validation acc')\n",
    "    plt.title('Training and validation accuracy\\n' + desc)\n",
    "    plt.legend()\n",
    "    plt.subplot(1, 2, 2)\n",
    "    plt.plot(x, loss, 'b', label='Training loss')\n",
    "    plt.plot(x, val_loss, 'r', label='Validation loss')\n",
    "    plt.title('Training and validation loss\\n' + desc)\n",
    "    plt.legend()\n",
    "\n"
   ]
  },
  {
   "cell_type": "code",
   "execution_count": 19,
   "metadata": {
    "id": "N2osu0MRL9aU"
   },
   "outputs": [],
   "source": [
    "from keras.callbacks import CSVLogger\n",
    "\n",
    "def evaluateModel(model, description, epochs, batch_size, train_texts, train_labels_id, test_texts, test_labels_id):\n",
    "    try:\n",
    "        print(\"\\n\\n#################### %s ####################\" % (description))\n",
    "        print(model.summary())\n",
    "        model.compile(loss='categorical_crossentropy', optimizer='adam', metrics=['acc'])\n",
    "        csv_logger = CSVLogger('/models/' + description + '_run_log.csv')\n",
    "        history = model.fit(train_texts, train_labels_id, batch_size=BATCH_SIZE, epochs=EPOCHS, validation_data=(test_texts, test_labels_id), callbacks=[csv_logger])\n",
    "        #print(\"\\n final results on test set:\")\n",
    "        model.evaluate(test_texts, test_labels_id)\n",
    "        plot_history(history, description)\n",
    "    except KeyboardInterrupt:\n",
    "        print(\"\\ncanceled learning this network!\")\n",
    "    return history\n",
    "\n",
    "\n",
    "EPOCHS = 30\n",
    "BATCH_SIZE = 256\n"
   ]
  },
  {
   "cell_type": "markdown",
   "metadata": {
    "id": "raLupjzrpKZx"
   },
   "source": [
    "## LSTM + GlobVe Embedding Retrained\n",
    "\n",
    "---\n",
    "\n",
    "\n",
    "\n"
   ]
  },
  {
   "cell_type": "code",
   "execution_count": 20,
   "metadata": {
    "colab": {
     "base_uri": "https://localhost:8080/",
     "height": 1784
    },
    "id": "mTW6LsoqlEkV",
    "outputId": "83ac2f39-78de-4fc4-878f-c760e0666b11"
   },
   "outputs": [
    {
     "name": "stdout",
     "output_type": "stream",
     "text": [
      "\n",
      "\n",
      "#################### LSTM + GlobVe Embedding Retrained ####################\n",
      "Model: \"sequential_2\"\n",
      "_________________________________________________________________\n",
      "Layer (type)                 Output Shape              Param #   \n",
      "=================================================================\n",
      "embedding_4 (Embedding)      (None, 100, 100)          3000000   \n",
      "_________________________________________________________________\n",
      "lstm_2 (LSTM)                (None, 128)               117248    \n",
      "_________________________________________________________________\n",
      "dense_2 (Dense)              (None, 20)                2580      \n",
      "=================================================================\n",
      "Total params: 3,119,828\n",
      "Trainable params: 3,119,828\n",
      "Non-trainable params: 0\n",
      "_________________________________________________________________\n",
      "None\n"
     ]
    },
    {
     "ename": "FileNotFoundError",
     "evalue": "[Errno 2] No such file or directory: '/models/LSTM + GlobVe Embedding Retrained_run_log.csv'",
     "output_type": "error",
     "traceback": [
      "\u001b[1;31m---------------------------------------------------------------------------\u001b[0m",
      "\u001b[1;31mFileNotFoundError\u001b[0m                         Traceback (most recent call last)",
      "\u001b[1;32m<ipython-input-20-b2553a1aaee4>\u001b[0m in \u001b[0;36m<module>\u001b[1;34m\u001b[0m\n\u001b[0;32m      5\u001b[0m \u001b[0mmodel\u001b[0m\u001b[1;33m.\u001b[0m\u001b[0madd\u001b[0m\u001b[1;33m(\u001b[0m\u001b[0mDense\u001b[0m\u001b[1;33m(\u001b[0m\u001b[0mlen\u001b[0m\u001b[1;33m(\u001b[0m\u001b[0mlabel_id_to_str\u001b[0m\u001b[1;33m)\u001b[0m\u001b[1;33m,\u001b[0m \u001b[0mactivation\u001b[0m\u001b[1;33m=\u001b[0m\u001b[1;34m'softmax'\u001b[0m\u001b[1;33m)\u001b[0m\u001b[1;33m)\u001b[0m\u001b[1;33m\u001b[0m\u001b[1;33m\u001b[0m\u001b[0m\n\u001b[0;32m      6\u001b[0m \u001b[1;33m\u001b[0m\u001b[0m\n\u001b[1;32m----> 7\u001b[1;33m evaluateModel(model, \"LSTM + GlobVe Embedding Retrained\", EPOCHS, BATCH_SIZE,\n\u001b[0m\u001b[0;32m      8\u001b[0m               train_texts_cleaned, train_labels_id, test_texts_cleaned, test_labels_id)\n",
      "\u001b[1;32m<ipython-input-19-c2e6e3fb5f9b>\u001b[0m in \u001b[0;36mevaluateModel\u001b[1;34m(model, description, epochs, batch_size, train_texts, train_labels_id, test_texts, test_labels_id)\u001b[0m\n\u001b[0;32m      7\u001b[0m         \u001b[0mmodel\u001b[0m\u001b[1;33m.\u001b[0m\u001b[0mcompile\u001b[0m\u001b[1;33m(\u001b[0m\u001b[0mloss\u001b[0m\u001b[1;33m=\u001b[0m\u001b[1;34m'categorical_crossentropy'\u001b[0m\u001b[1;33m,\u001b[0m \u001b[0moptimizer\u001b[0m\u001b[1;33m=\u001b[0m\u001b[1;34m'adam'\u001b[0m\u001b[1;33m,\u001b[0m \u001b[0mmetrics\u001b[0m\u001b[1;33m=\u001b[0m\u001b[1;33m[\u001b[0m\u001b[1;34m'acc'\u001b[0m\u001b[1;33m]\u001b[0m\u001b[1;33m)\u001b[0m\u001b[1;33m\u001b[0m\u001b[1;33m\u001b[0m\u001b[0m\n\u001b[0;32m      8\u001b[0m         \u001b[0mcsv_logger\u001b[0m \u001b[1;33m=\u001b[0m \u001b[0mCSVLogger\u001b[0m\u001b[1;33m(\u001b[0m\u001b[1;34m'/models/'\u001b[0m \u001b[1;33m+\u001b[0m \u001b[0mdescription\u001b[0m \u001b[1;33m+\u001b[0m \u001b[1;34m'_run_log.csv'\u001b[0m\u001b[1;33m)\u001b[0m\u001b[1;33m\u001b[0m\u001b[1;33m\u001b[0m\u001b[0m\n\u001b[1;32m----> 9\u001b[1;33m         \u001b[0mhistory\u001b[0m \u001b[1;33m=\u001b[0m \u001b[0mmodel\u001b[0m\u001b[1;33m.\u001b[0m\u001b[0mfit\u001b[0m\u001b[1;33m(\u001b[0m\u001b[0mtrain_texts\u001b[0m\u001b[1;33m,\u001b[0m \u001b[0mtrain_labels_id\u001b[0m\u001b[1;33m,\u001b[0m \u001b[0mbatch_size\u001b[0m\u001b[1;33m=\u001b[0m\u001b[0mBATCH_SIZE\u001b[0m\u001b[1;33m,\u001b[0m \u001b[0mepochs\u001b[0m\u001b[1;33m=\u001b[0m\u001b[0mEPOCHS\u001b[0m\u001b[1;33m,\u001b[0m \u001b[0mvalidation_data\u001b[0m\u001b[1;33m=\u001b[0m\u001b[1;33m(\u001b[0m\u001b[0mtest_texts\u001b[0m\u001b[1;33m,\u001b[0m \u001b[0mtest_labels_id\u001b[0m\u001b[1;33m)\u001b[0m\u001b[1;33m,\u001b[0m \u001b[0mcallbacks\u001b[0m\u001b[1;33m=\u001b[0m\u001b[1;33m[\u001b[0m\u001b[0mcsv_logger\u001b[0m\u001b[1;33m]\u001b[0m\u001b[1;33m)\u001b[0m\u001b[1;33m\u001b[0m\u001b[1;33m\u001b[0m\u001b[0m\n\u001b[0m\u001b[0;32m     10\u001b[0m         \u001b[1;31m#print(\"\\n final results on test set:\")\u001b[0m\u001b[1;33m\u001b[0m\u001b[1;33m\u001b[0m\u001b[1;33m\u001b[0m\u001b[0m\n\u001b[0;32m     11\u001b[0m         \u001b[0mmodel\u001b[0m\u001b[1;33m.\u001b[0m\u001b[0mevaluate\u001b[0m\u001b[1;33m(\u001b[0m\u001b[0mtest_texts\u001b[0m\u001b[1;33m,\u001b[0m \u001b[0mtest_labels_id\u001b[0m\u001b[1;33m)\u001b[0m\u001b[1;33m\u001b[0m\u001b[1;33m\u001b[0m\u001b[0m\n",
      "\u001b[1;32m~\\anaconda3\\lib\\site-packages\\tensorflow\\python\\keras\\engine\\training.py\u001b[0m in \u001b[0;36mfit\u001b[1;34m(self, x, y, batch_size, epochs, verbose, callbacks, validation_split, validation_data, shuffle, class_weight, sample_weight, initial_epoch, steps_per_epoch, validation_steps, validation_batch_size, validation_freq, max_queue_size, workers, use_multiprocessing)\u001b[0m\n\u001b[0;32m   1161\u001b[0m       \u001b[0mself\u001b[0m\u001b[1;33m.\u001b[0m\u001b[0mtrain_function\u001b[0m \u001b[1;33m=\u001b[0m \u001b[0mself\u001b[0m\u001b[1;33m.\u001b[0m\u001b[0mmake_train_function\u001b[0m\u001b[1;33m(\u001b[0m\u001b[1;33m)\u001b[0m\u001b[1;33m\u001b[0m\u001b[1;33m\u001b[0m\u001b[0m\n\u001b[0;32m   1162\u001b[0m       \u001b[0mself\u001b[0m\u001b[1;33m.\u001b[0m\u001b[0m_train_counter\u001b[0m\u001b[1;33m.\u001b[0m\u001b[0massign\u001b[0m\u001b[1;33m(\u001b[0m\u001b[1;36m0\u001b[0m\u001b[1;33m)\u001b[0m\u001b[1;33m\u001b[0m\u001b[1;33m\u001b[0m\u001b[0m\n\u001b[1;32m-> 1163\u001b[1;33m       \u001b[0mcallbacks\u001b[0m\u001b[1;33m.\u001b[0m\u001b[0mon_train_begin\u001b[0m\u001b[1;33m(\u001b[0m\u001b[1;33m)\u001b[0m\u001b[1;33m\u001b[0m\u001b[1;33m\u001b[0m\u001b[0m\n\u001b[0m\u001b[0;32m   1164\u001b[0m       \u001b[0mtraining_logs\u001b[0m \u001b[1;33m=\u001b[0m \u001b[1;32mNone\u001b[0m\u001b[1;33m\u001b[0m\u001b[1;33m\u001b[0m\u001b[0m\n\u001b[0;32m   1165\u001b[0m       \u001b[1;31m# Handle fault-tolerance for multi-worker.\u001b[0m\u001b[1;33m\u001b[0m\u001b[1;33m\u001b[0m\u001b[1;33m\u001b[0m\u001b[0m\n",
      "\u001b[1;32m~\\anaconda3\\lib\\site-packages\\tensorflow\\python\\keras\\callbacks.py\u001b[0m in \u001b[0;36mon_train_begin\u001b[1;34m(self, logs)\u001b[0m\n\u001b[0;32m    510\u001b[0m     \u001b[0mlogs\u001b[0m \u001b[1;33m=\u001b[0m \u001b[0mself\u001b[0m\u001b[1;33m.\u001b[0m\u001b[0m_process_logs\u001b[0m\u001b[1;33m(\u001b[0m\u001b[0mlogs\u001b[0m\u001b[1;33m)\u001b[0m\u001b[1;33m\u001b[0m\u001b[1;33m\u001b[0m\u001b[0m\n\u001b[0;32m    511\u001b[0m     \u001b[1;32mfor\u001b[0m \u001b[0mcallback\u001b[0m \u001b[1;32min\u001b[0m \u001b[0mself\u001b[0m\u001b[1;33m.\u001b[0m\u001b[0mcallbacks\u001b[0m\u001b[1;33m:\u001b[0m\u001b[1;33m\u001b[0m\u001b[1;33m\u001b[0m\u001b[0m\n\u001b[1;32m--> 512\u001b[1;33m       \u001b[0mcallback\u001b[0m\u001b[1;33m.\u001b[0m\u001b[0mon_train_begin\u001b[0m\u001b[1;33m(\u001b[0m\u001b[0mlogs\u001b[0m\u001b[1;33m)\u001b[0m\u001b[1;33m\u001b[0m\u001b[1;33m\u001b[0m\u001b[0m\n\u001b[0m\u001b[0;32m    513\u001b[0m \u001b[1;33m\u001b[0m\u001b[0m\n\u001b[0;32m    514\u001b[0m   \u001b[1;32mdef\u001b[0m \u001b[0mon_train_end\u001b[0m\u001b[1;33m(\u001b[0m\u001b[0mself\u001b[0m\u001b[1;33m,\u001b[0m \u001b[0mlogs\u001b[0m\u001b[1;33m=\u001b[0m\u001b[1;32mNone\u001b[0m\u001b[1;33m)\u001b[0m\u001b[1;33m:\u001b[0m\u001b[1;33m\u001b[0m\u001b[1;33m\u001b[0m\u001b[0m\n",
      "\u001b[1;32m~\\anaconda3\\lib\\site-packages\\keras\\callbacks.py\u001b[0m in \u001b[0;36mon_train_begin\u001b[1;34m(self, logs)\u001b[0m\n\u001b[0;32m   2741\u001b[0m     \u001b[1;32melse\u001b[0m\u001b[1;33m:\u001b[0m\u001b[1;33m\u001b[0m\u001b[1;33m\u001b[0m\u001b[0m\n\u001b[0;32m   2742\u001b[0m       \u001b[0mmode\u001b[0m \u001b[1;33m=\u001b[0m \u001b[1;34m'w'\u001b[0m\u001b[1;33m\u001b[0m\u001b[1;33m\u001b[0m\u001b[0m\n\u001b[1;32m-> 2743\u001b[1;33m     self.csv_file = io.open(self.filename,\n\u001b[0m\u001b[0;32m   2744\u001b[0m                             \u001b[0mmode\u001b[0m \u001b[1;33m+\u001b[0m \u001b[0mself\u001b[0m\u001b[1;33m.\u001b[0m\u001b[0mfile_flags\u001b[0m\u001b[1;33m,\u001b[0m\u001b[1;33m\u001b[0m\u001b[1;33m\u001b[0m\u001b[0m\n\u001b[0;32m   2745\u001b[0m                             **self._open_args)\n",
      "\u001b[1;31mFileNotFoundError\u001b[0m: [Errno 2] No such file or directory: '/models/LSTM + GlobVe Embedding Retrained_run_log.csv'"
     ]
    }
   ],
   "source": [
    "\n",
    "########################\n",
    "model = Sequential()\n",
    "model.add(get_embedding_layer_globve_trainable())\n",
    "model.add(LSTM(128, dropout=0.2, recurrent_dropout=0.2))\n",
    "model.add(Dense(len(label_id_to_str), activation='softmax'))\n",
    "\n",
    "evaluateModel(model, \"LSTM + GlobVe Embedding Retrained\", EPOCHS, BATCH_SIZE,\n",
    "              train_texts_cleaned, train_labels_id, test_texts_cleaned, test_labels_id)\n"
   ]
  },
  {
   "cell_type": "markdown",
   "metadata": {
    "id": "RONfRuVGpmFy"
   },
   "source": [
    "## LSTM + GlobVe Embedding Retrained Batch and Cells\n",
    "\n",
    "---\n",
    "\n"
   ]
  },
  {
   "cell_type": "code",
   "execution_count": 21,
   "metadata": {
    "colab": {
     "base_uri": "https://localhost:8080/",
     "height": 20165
    },
    "id": "IartuENQSG4k",
    "outputId": "4a082c00-ebfc-4b0f-9e8e-0ea5c8e4235a"
   },
   "outputs": [
    {
     "name": "stdout",
     "output_type": "stream",
     "text": [
      "\n",
      "\n",
      "#################### LSTM + GlobVe Embedding Retrained Batch 128 Cells 64 ####################\n",
      "Model: \"sequential_3\"\n",
      "_________________________________________________________________\n",
      "Layer (type)                 Output Shape              Param #   \n",
      "=================================================================\n",
      "embedding_5 (Embedding)      (None, 100, 100)          3000000   \n",
      "_________________________________________________________________\n",
      "lstm_3 (LSTM)                (None, 64)                42240     \n",
      "_________________________________________________________________\n",
      "dense_3 (Dense)              (None, 20)                1300      \n",
      "=================================================================\n",
      "Total params: 3,043,540\n",
      "Trainable params: 3,043,540\n",
      "Non-trainable params: 0\n",
      "_________________________________________________________________\n",
      "None\n"
     ]
    },
    {
     "ename": "FileNotFoundError",
     "evalue": "[Errno 2] No such file or directory: '/models/LSTM + GlobVe Embedding Retrained Batch 128 Cells 64_run_log.csv'",
     "output_type": "error",
     "traceback": [
      "\u001b[1;31m---------------------------------------------------------------------------\u001b[0m",
      "\u001b[1;31mFileNotFoundError\u001b[0m                         Traceback (most recent call last)",
      "\u001b[1;32m<ipython-input-21-c4346113747d>\u001b[0m in \u001b[0;36m<module>\u001b[1;34m\u001b[0m\n\u001b[0;32m      7\u001b[0m     \u001b[0mmodel\u001b[0m\u001b[1;33m.\u001b[0m\u001b[0madd\u001b[0m\u001b[1;33m(\u001b[0m\u001b[0mDense\u001b[0m\u001b[1;33m(\u001b[0m\u001b[0mlen\u001b[0m\u001b[1;33m(\u001b[0m\u001b[0mlabel_id_to_str\u001b[0m\u001b[1;33m)\u001b[0m\u001b[1;33m,\u001b[0m \u001b[0mactivation\u001b[0m\u001b[1;33m=\u001b[0m\u001b[1;34m'softmax'\u001b[0m\u001b[1;33m)\u001b[0m\u001b[1;33m)\u001b[0m\u001b[1;33m\u001b[0m\u001b[1;33m\u001b[0m\u001b[0m\n\u001b[0;32m      8\u001b[0m \u001b[1;33m\u001b[0m\u001b[0m\n\u001b[1;32m----> 9\u001b[1;33m     \u001b[0mevaluateModel\u001b[0m\u001b[1;33m(\u001b[0m\u001b[0mmodel\u001b[0m\u001b[1;33m,\u001b[0m \u001b[1;34m\"LSTM + GlobVe Embedding Retrained Batch %i Cells %i\"\u001b[0m \u001b[1;33m%\u001b[0m \u001b[1;33m(\u001b[0m\u001b[0miBATCH_SIZE\u001b[0m\u001b[1;33m,\u001b[0m \u001b[0miCells\u001b[0m\u001b[1;33m)\u001b[0m\u001b[1;33m,\u001b[0m \u001b[0mEPOCHS\u001b[0m\u001b[1;33m,\u001b[0m \u001b[0miBATCH_SIZE\u001b[0m\u001b[1;33m,\u001b[0m \u001b[0mtrain_texts_cleaned\u001b[0m\u001b[1;33m,\u001b[0m \u001b[0mtrain_labels_id\u001b[0m\u001b[1;33m,\u001b[0m \u001b[0mtest_texts_cleaned\u001b[0m\u001b[1;33m,\u001b[0m \u001b[0mtest_labels_id\u001b[0m\u001b[1;33m)\u001b[0m\u001b[1;33m\u001b[0m\u001b[1;33m\u001b[0m\u001b[0m\n\u001b[0m",
      "\u001b[1;32m<ipython-input-19-c2e6e3fb5f9b>\u001b[0m in \u001b[0;36mevaluateModel\u001b[1;34m(model, description, epochs, batch_size, train_texts, train_labels_id, test_texts, test_labels_id)\u001b[0m\n\u001b[0;32m      7\u001b[0m         \u001b[0mmodel\u001b[0m\u001b[1;33m.\u001b[0m\u001b[0mcompile\u001b[0m\u001b[1;33m(\u001b[0m\u001b[0mloss\u001b[0m\u001b[1;33m=\u001b[0m\u001b[1;34m'categorical_crossentropy'\u001b[0m\u001b[1;33m,\u001b[0m \u001b[0moptimizer\u001b[0m\u001b[1;33m=\u001b[0m\u001b[1;34m'adam'\u001b[0m\u001b[1;33m,\u001b[0m \u001b[0mmetrics\u001b[0m\u001b[1;33m=\u001b[0m\u001b[1;33m[\u001b[0m\u001b[1;34m'acc'\u001b[0m\u001b[1;33m]\u001b[0m\u001b[1;33m)\u001b[0m\u001b[1;33m\u001b[0m\u001b[1;33m\u001b[0m\u001b[0m\n\u001b[0;32m      8\u001b[0m         \u001b[0mcsv_logger\u001b[0m \u001b[1;33m=\u001b[0m \u001b[0mCSVLogger\u001b[0m\u001b[1;33m(\u001b[0m\u001b[1;34m'/models/'\u001b[0m \u001b[1;33m+\u001b[0m \u001b[0mdescription\u001b[0m \u001b[1;33m+\u001b[0m \u001b[1;34m'_run_log.csv'\u001b[0m\u001b[1;33m)\u001b[0m\u001b[1;33m\u001b[0m\u001b[1;33m\u001b[0m\u001b[0m\n\u001b[1;32m----> 9\u001b[1;33m         \u001b[0mhistory\u001b[0m \u001b[1;33m=\u001b[0m \u001b[0mmodel\u001b[0m\u001b[1;33m.\u001b[0m\u001b[0mfit\u001b[0m\u001b[1;33m(\u001b[0m\u001b[0mtrain_texts\u001b[0m\u001b[1;33m,\u001b[0m \u001b[0mtrain_labels_id\u001b[0m\u001b[1;33m,\u001b[0m \u001b[0mbatch_size\u001b[0m\u001b[1;33m=\u001b[0m\u001b[0mBATCH_SIZE\u001b[0m\u001b[1;33m,\u001b[0m \u001b[0mepochs\u001b[0m\u001b[1;33m=\u001b[0m\u001b[0mEPOCHS\u001b[0m\u001b[1;33m,\u001b[0m \u001b[0mvalidation_data\u001b[0m\u001b[1;33m=\u001b[0m\u001b[1;33m(\u001b[0m\u001b[0mtest_texts\u001b[0m\u001b[1;33m,\u001b[0m \u001b[0mtest_labels_id\u001b[0m\u001b[1;33m)\u001b[0m\u001b[1;33m,\u001b[0m \u001b[0mcallbacks\u001b[0m\u001b[1;33m=\u001b[0m\u001b[1;33m[\u001b[0m\u001b[0mcsv_logger\u001b[0m\u001b[1;33m]\u001b[0m\u001b[1;33m)\u001b[0m\u001b[1;33m\u001b[0m\u001b[1;33m\u001b[0m\u001b[0m\n\u001b[0m\u001b[0;32m     10\u001b[0m         \u001b[1;31m#print(\"\\n final results on test set:\")\u001b[0m\u001b[1;33m\u001b[0m\u001b[1;33m\u001b[0m\u001b[1;33m\u001b[0m\u001b[0m\n\u001b[0;32m     11\u001b[0m         \u001b[0mmodel\u001b[0m\u001b[1;33m.\u001b[0m\u001b[0mevaluate\u001b[0m\u001b[1;33m(\u001b[0m\u001b[0mtest_texts\u001b[0m\u001b[1;33m,\u001b[0m \u001b[0mtest_labels_id\u001b[0m\u001b[1;33m)\u001b[0m\u001b[1;33m\u001b[0m\u001b[1;33m\u001b[0m\u001b[0m\n",
      "\u001b[1;32m~\\anaconda3\\lib\\site-packages\\tensorflow\\python\\keras\\engine\\training.py\u001b[0m in \u001b[0;36mfit\u001b[1;34m(self, x, y, batch_size, epochs, verbose, callbacks, validation_split, validation_data, shuffle, class_weight, sample_weight, initial_epoch, steps_per_epoch, validation_steps, validation_batch_size, validation_freq, max_queue_size, workers, use_multiprocessing)\u001b[0m\n\u001b[0;32m   1161\u001b[0m       \u001b[0mself\u001b[0m\u001b[1;33m.\u001b[0m\u001b[0mtrain_function\u001b[0m \u001b[1;33m=\u001b[0m \u001b[0mself\u001b[0m\u001b[1;33m.\u001b[0m\u001b[0mmake_train_function\u001b[0m\u001b[1;33m(\u001b[0m\u001b[1;33m)\u001b[0m\u001b[1;33m\u001b[0m\u001b[1;33m\u001b[0m\u001b[0m\n\u001b[0;32m   1162\u001b[0m       \u001b[0mself\u001b[0m\u001b[1;33m.\u001b[0m\u001b[0m_train_counter\u001b[0m\u001b[1;33m.\u001b[0m\u001b[0massign\u001b[0m\u001b[1;33m(\u001b[0m\u001b[1;36m0\u001b[0m\u001b[1;33m)\u001b[0m\u001b[1;33m\u001b[0m\u001b[1;33m\u001b[0m\u001b[0m\n\u001b[1;32m-> 1163\u001b[1;33m       \u001b[0mcallbacks\u001b[0m\u001b[1;33m.\u001b[0m\u001b[0mon_train_begin\u001b[0m\u001b[1;33m(\u001b[0m\u001b[1;33m)\u001b[0m\u001b[1;33m\u001b[0m\u001b[1;33m\u001b[0m\u001b[0m\n\u001b[0m\u001b[0;32m   1164\u001b[0m       \u001b[0mtraining_logs\u001b[0m \u001b[1;33m=\u001b[0m \u001b[1;32mNone\u001b[0m\u001b[1;33m\u001b[0m\u001b[1;33m\u001b[0m\u001b[0m\n\u001b[0;32m   1165\u001b[0m       \u001b[1;31m# Handle fault-tolerance for multi-worker.\u001b[0m\u001b[1;33m\u001b[0m\u001b[1;33m\u001b[0m\u001b[1;33m\u001b[0m\u001b[0m\n",
      "\u001b[1;32m~\\anaconda3\\lib\\site-packages\\tensorflow\\python\\keras\\callbacks.py\u001b[0m in \u001b[0;36mon_train_begin\u001b[1;34m(self, logs)\u001b[0m\n\u001b[0;32m    510\u001b[0m     \u001b[0mlogs\u001b[0m \u001b[1;33m=\u001b[0m \u001b[0mself\u001b[0m\u001b[1;33m.\u001b[0m\u001b[0m_process_logs\u001b[0m\u001b[1;33m(\u001b[0m\u001b[0mlogs\u001b[0m\u001b[1;33m)\u001b[0m\u001b[1;33m\u001b[0m\u001b[1;33m\u001b[0m\u001b[0m\n\u001b[0;32m    511\u001b[0m     \u001b[1;32mfor\u001b[0m \u001b[0mcallback\u001b[0m \u001b[1;32min\u001b[0m \u001b[0mself\u001b[0m\u001b[1;33m.\u001b[0m\u001b[0mcallbacks\u001b[0m\u001b[1;33m:\u001b[0m\u001b[1;33m\u001b[0m\u001b[1;33m\u001b[0m\u001b[0m\n\u001b[1;32m--> 512\u001b[1;33m       \u001b[0mcallback\u001b[0m\u001b[1;33m.\u001b[0m\u001b[0mon_train_begin\u001b[0m\u001b[1;33m(\u001b[0m\u001b[0mlogs\u001b[0m\u001b[1;33m)\u001b[0m\u001b[1;33m\u001b[0m\u001b[1;33m\u001b[0m\u001b[0m\n\u001b[0m\u001b[0;32m    513\u001b[0m \u001b[1;33m\u001b[0m\u001b[0m\n\u001b[0;32m    514\u001b[0m   \u001b[1;32mdef\u001b[0m \u001b[0mon_train_end\u001b[0m\u001b[1;33m(\u001b[0m\u001b[0mself\u001b[0m\u001b[1;33m,\u001b[0m \u001b[0mlogs\u001b[0m\u001b[1;33m=\u001b[0m\u001b[1;32mNone\u001b[0m\u001b[1;33m)\u001b[0m\u001b[1;33m:\u001b[0m\u001b[1;33m\u001b[0m\u001b[1;33m\u001b[0m\u001b[0m\n",
      "\u001b[1;32m~\\anaconda3\\lib\\site-packages\\keras\\callbacks.py\u001b[0m in \u001b[0;36mon_train_begin\u001b[1;34m(self, logs)\u001b[0m\n\u001b[0;32m   2741\u001b[0m     \u001b[1;32melse\u001b[0m\u001b[1;33m:\u001b[0m\u001b[1;33m\u001b[0m\u001b[1;33m\u001b[0m\u001b[0m\n\u001b[0;32m   2742\u001b[0m       \u001b[0mmode\u001b[0m \u001b[1;33m=\u001b[0m \u001b[1;34m'w'\u001b[0m\u001b[1;33m\u001b[0m\u001b[1;33m\u001b[0m\u001b[0m\n\u001b[1;32m-> 2743\u001b[1;33m     self.csv_file = io.open(self.filename,\n\u001b[0m\u001b[0;32m   2744\u001b[0m                             \u001b[0mmode\u001b[0m \u001b[1;33m+\u001b[0m \u001b[0mself\u001b[0m\u001b[1;33m.\u001b[0m\u001b[0mfile_flags\u001b[0m\u001b[1;33m,\u001b[0m\u001b[1;33m\u001b[0m\u001b[1;33m\u001b[0m\u001b[0m\n\u001b[0;32m   2745\u001b[0m                             **self._open_args)\n",
      "\u001b[1;31mFileNotFoundError\u001b[0m: [Errno 2] No such file or directory: '/models/LSTM + GlobVe Embedding Retrained Batch 128 Cells 64_run_log.csv'"
     ]
    }
   ],
   "source": [
    "########################\n",
    "for iBATCH_SIZE in [128, 256, 512]:\n",
    "  for iCells in [64, 128, 256, 512]:\n",
    "    model = Sequential()\n",
    "    model.add(get_embedding_layer_globve_trainable())\n",
    "    model.add(LSTM(iCells, dropout=0.2, recurrent_dropout=0.2))\n",
    "    model.add(Dense(len(label_id_to_str), activation='softmax'))\n",
    "\n",
    "    evaluateModel(model, \"LSTM + GlobVe Embedding Retrained Batch %i Cells %i\" % (iBATCH_SIZE, iCells), EPOCHS, iBATCH_SIZE, train_texts_cleaned, train_labels_id, test_texts_cleaned, test_labels_id)"
   ]
  },
  {
   "cell_type": "markdown",
   "metadata": {
    "id": "XXG7yG-WN5QI"
   },
   "source": [
    "## simple dense layer neuronal network\n",
    "\n",
    "---\n",
    "\n"
   ]
  },
  {
   "cell_type": "code",
   "execution_count": 24,
   "metadata": {
    "colab": {
     "base_uri": "https://localhost:8080/",
     "height": 1747
    },
    "id": "W5zLoFKfkgha",
    "outputId": "eeaccc14-3d9e-49aa-c073-1f9579052a18"
   },
   "outputs": [
    {
     "name": "stdout",
     "output_type": "stream",
     "text": [
      "\n",
      "\n",
      "#################### simple dense layer neuronal network ####################\n",
      "Model: \"sequential_4\"\n",
      "_________________________________________________________________\n",
      "Layer (type)                 Output Shape              Param #   \n",
      "=================================================================\n",
      "embedding_6 (Embedding)      (None, 100, 100)          3000000   \n",
      "_________________________________________________________________\n",
      "dense_4 (Dense)              (None, 100, 256)          25856     \n",
      "_________________________________________________________________\n",
      "flatten (Flatten)            (None, 25600)             0         \n",
      "_________________________________________________________________\n",
      "dense_5 (Dense)              (None, 20)                512020    \n",
      "=================================================================\n",
      "Total params: 3,537,876\n",
      "Trainable params: 537,876\n",
      "Non-trainable params: 3,000,000\n",
      "_________________________________________________________________\n",
      "None\n"
     ]
    },
    {
     "ename": "FileNotFoundError",
     "evalue": "[Errno 2] No such file or directory: '/models/simple dense layer neuronal network_run_log.csv'",
     "output_type": "error",
     "traceback": [
      "\u001b[1;31m---------------------------------------------------------------------------\u001b[0m",
      "\u001b[1;31mFileNotFoundError\u001b[0m                         Traceback (most recent call last)",
      "\u001b[1;32m<ipython-input-24-7964c3eb62b6>\u001b[0m in \u001b[0;36m<module>\u001b[1;34m\u001b[0m\n\u001b[0;32m      5\u001b[0m \u001b[0mmodel\u001b[0m\u001b[1;33m.\u001b[0m\u001b[0madd\u001b[0m\u001b[1;33m(\u001b[0m\u001b[0mFlatten\u001b[0m\u001b[1;33m(\u001b[0m\u001b[1;33m)\u001b[0m\u001b[1;33m)\u001b[0m\u001b[1;33m\u001b[0m\u001b[1;33m\u001b[0m\u001b[0m\n\u001b[0;32m      6\u001b[0m \u001b[0mmodel\u001b[0m\u001b[1;33m.\u001b[0m\u001b[0madd\u001b[0m\u001b[1;33m(\u001b[0m\u001b[0mDense\u001b[0m\u001b[1;33m(\u001b[0m\u001b[0mlen\u001b[0m\u001b[1;33m(\u001b[0m\u001b[0mlabel_id_to_str\u001b[0m\u001b[1;33m)\u001b[0m\u001b[1;33m,\u001b[0m \u001b[0mactivation\u001b[0m\u001b[1;33m=\u001b[0m\u001b[1;34m'softmax'\u001b[0m\u001b[1;33m)\u001b[0m\u001b[1;33m)\u001b[0m\u001b[1;33m\u001b[0m\u001b[1;33m\u001b[0m\u001b[0m\n\u001b[1;32m----> 7\u001b[1;33m \u001b[0mevaluateModel\u001b[0m\u001b[1;33m(\u001b[0m\u001b[0mmodel\u001b[0m\u001b[1;33m,\u001b[0m \u001b[1;34m\"simple dense layer neuronal network\"\u001b[0m\u001b[1;33m,\u001b[0m \u001b[0mEPOCHS\u001b[0m\u001b[1;33m,\u001b[0m \u001b[0mBATCH_SIZE\u001b[0m\u001b[1;33m,\u001b[0m \u001b[0mtrain_texts_cleaned\u001b[0m\u001b[1;33m,\u001b[0m \u001b[0mtrain_labels_id\u001b[0m\u001b[1;33m,\u001b[0m \u001b[0mtest_texts_cleaned\u001b[0m\u001b[1;33m,\u001b[0m \u001b[0mtest_labels_id\u001b[0m\u001b[1;33m)\u001b[0m\u001b[1;33m\u001b[0m\u001b[1;33m\u001b[0m\u001b[0m\n\u001b[0m",
      "\u001b[1;32m<ipython-input-19-c2e6e3fb5f9b>\u001b[0m in \u001b[0;36mevaluateModel\u001b[1;34m(model, description, epochs, batch_size, train_texts, train_labels_id, test_texts, test_labels_id)\u001b[0m\n\u001b[0;32m      7\u001b[0m         \u001b[0mmodel\u001b[0m\u001b[1;33m.\u001b[0m\u001b[0mcompile\u001b[0m\u001b[1;33m(\u001b[0m\u001b[0mloss\u001b[0m\u001b[1;33m=\u001b[0m\u001b[1;34m'categorical_crossentropy'\u001b[0m\u001b[1;33m,\u001b[0m \u001b[0moptimizer\u001b[0m\u001b[1;33m=\u001b[0m\u001b[1;34m'adam'\u001b[0m\u001b[1;33m,\u001b[0m \u001b[0mmetrics\u001b[0m\u001b[1;33m=\u001b[0m\u001b[1;33m[\u001b[0m\u001b[1;34m'acc'\u001b[0m\u001b[1;33m]\u001b[0m\u001b[1;33m)\u001b[0m\u001b[1;33m\u001b[0m\u001b[1;33m\u001b[0m\u001b[0m\n\u001b[0;32m      8\u001b[0m         \u001b[0mcsv_logger\u001b[0m \u001b[1;33m=\u001b[0m \u001b[0mCSVLogger\u001b[0m\u001b[1;33m(\u001b[0m\u001b[1;34m'/models/'\u001b[0m \u001b[1;33m+\u001b[0m \u001b[0mdescription\u001b[0m \u001b[1;33m+\u001b[0m \u001b[1;34m'_run_log.csv'\u001b[0m\u001b[1;33m)\u001b[0m\u001b[1;33m\u001b[0m\u001b[1;33m\u001b[0m\u001b[0m\n\u001b[1;32m----> 9\u001b[1;33m         \u001b[0mhistory\u001b[0m \u001b[1;33m=\u001b[0m \u001b[0mmodel\u001b[0m\u001b[1;33m.\u001b[0m\u001b[0mfit\u001b[0m\u001b[1;33m(\u001b[0m\u001b[0mtrain_texts\u001b[0m\u001b[1;33m,\u001b[0m \u001b[0mtrain_labels_id\u001b[0m\u001b[1;33m,\u001b[0m \u001b[0mbatch_size\u001b[0m\u001b[1;33m=\u001b[0m\u001b[0mBATCH_SIZE\u001b[0m\u001b[1;33m,\u001b[0m \u001b[0mepochs\u001b[0m\u001b[1;33m=\u001b[0m\u001b[0mEPOCHS\u001b[0m\u001b[1;33m,\u001b[0m \u001b[0mvalidation_data\u001b[0m\u001b[1;33m=\u001b[0m\u001b[1;33m(\u001b[0m\u001b[0mtest_texts\u001b[0m\u001b[1;33m,\u001b[0m \u001b[0mtest_labels_id\u001b[0m\u001b[1;33m)\u001b[0m\u001b[1;33m,\u001b[0m \u001b[0mcallbacks\u001b[0m\u001b[1;33m=\u001b[0m\u001b[1;33m[\u001b[0m\u001b[0mcsv_logger\u001b[0m\u001b[1;33m]\u001b[0m\u001b[1;33m)\u001b[0m\u001b[1;33m\u001b[0m\u001b[1;33m\u001b[0m\u001b[0m\n\u001b[0m\u001b[0;32m     10\u001b[0m         \u001b[1;31m#print(\"\\n final results on test set:\")\u001b[0m\u001b[1;33m\u001b[0m\u001b[1;33m\u001b[0m\u001b[1;33m\u001b[0m\u001b[0m\n\u001b[0;32m     11\u001b[0m         \u001b[0mmodel\u001b[0m\u001b[1;33m.\u001b[0m\u001b[0mevaluate\u001b[0m\u001b[1;33m(\u001b[0m\u001b[0mtest_texts\u001b[0m\u001b[1;33m,\u001b[0m \u001b[0mtest_labels_id\u001b[0m\u001b[1;33m)\u001b[0m\u001b[1;33m\u001b[0m\u001b[1;33m\u001b[0m\u001b[0m\n",
      "\u001b[1;32m~\\anaconda3\\lib\\site-packages\\tensorflow\\python\\keras\\engine\\training.py\u001b[0m in \u001b[0;36mfit\u001b[1;34m(self, x, y, batch_size, epochs, verbose, callbacks, validation_split, validation_data, shuffle, class_weight, sample_weight, initial_epoch, steps_per_epoch, validation_steps, validation_batch_size, validation_freq, max_queue_size, workers, use_multiprocessing)\u001b[0m\n\u001b[0;32m   1161\u001b[0m       \u001b[0mself\u001b[0m\u001b[1;33m.\u001b[0m\u001b[0mtrain_function\u001b[0m \u001b[1;33m=\u001b[0m \u001b[0mself\u001b[0m\u001b[1;33m.\u001b[0m\u001b[0mmake_train_function\u001b[0m\u001b[1;33m(\u001b[0m\u001b[1;33m)\u001b[0m\u001b[1;33m\u001b[0m\u001b[1;33m\u001b[0m\u001b[0m\n\u001b[0;32m   1162\u001b[0m       \u001b[0mself\u001b[0m\u001b[1;33m.\u001b[0m\u001b[0m_train_counter\u001b[0m\u001b[1;33m.\u001b[0m\u001b[0massign\u001b[0m\u001b[1;33m(\u001b[0m\u001b[1;36m0\u001b[0m\u001b[1;33m)\u001b[0m\u001b[1;33m\u001b[0m\u001b[1;33m\u001b[0m\u001b[0m\n\u001b[1;32m-> 1163\u001b[1;33m       \u001b[0mcallbacks\u001b[0m\u001b[1;33m.\u001b[0m\u001b[0mon_train_begin\u001b[0m\u001b[1;33m(\u001b[0m\u001b[1;33m)\u001b[0m\u001b[1;33m\u001b[0m\u001b[1;33m\u001b[0m\u001b[0m\n\u001b[0m\u001b[0;32m   1164\u001b[0m       \u001b[0mtraining_logs\u001b[0m \u001b[1;33m=\u001b[0m \u001b[1;32mNone\u001b[0m\u001b[1;33m\u001b[0m\u001b[1;33m\u001b[0m\u001b[0m\n\u001b[0;32m   1165\u001b[0m       \u001b[1;31m# Handle fault-tolerance for multi-worker.\u001b[0m\u001b[1;33m\u001b[0m\u001b[1;33m\u001b[0m\u001b[1;33m\u001b[0m\u001b[0m\n",
      "\u001b[1;32m~\\anaconda3\\lib\\site-packages\\tensorflow\\python\\keras\\callbacks.py\u001b[0m in \u001b[0;36mon_train_begin\u001b[1;34m(self, logs)\u001b[0m\n\u001b[0;32m    510\u001b[0m     \u001b[0mlogs\u001b[0m \u001b[1;33m=\u001b[0m \u001b[0mself\u001b[0m\u001b[1;33m.\u001b[0m\u001b[0m_process_logs\u001b[0m\u001b[1;33m(\u001b[0m\u001b[0mlogs\u001b[0m\u001b[1;33m)\u001b[0m\u001b[1;33m\u001b[0m\u001b[1;33m\u001b[0m\u001b[0m\n\u001b[0;32m    511\u001b[0m     \u001b[1;32mfor\u001b[0m \u001b[0mcallback\u001b[0m \u001b[1;32min\u001b[0m \u001b[0mself\u001b[0m\u001b[1;33m.\u001b[0m\u001b[0mcallbacks\u001b[0m\u001b[1;33m:\u001b[0m\u001b[1;33m\u001b[0m\u001b[1;33m\u001b[0m\u001b[0m\n\u001b[1;32m--> 512\u001b[1;33m       \u001b[0mcallback\u001b[0m\u001b[1;33m.\u001b[0m\u001b[0mon_train_begin\u001b[0m\u001b[1;33m(\u001b[0m\u001b[0mlogs\u001b[0m\u001b[1;33m)\u001b[0m\u001b[1;33m\u001b[0m\u001b[1;33m\u001b[0m\u001b[0m\n\u001b[0m\u001b[0;32m    513\u001b[0m \u001b[1;33m\u001b[0m\u001b[0m\n\u001b[0;32m    514\u001b[0m   \u001b[1;32mdef\u001b[0m \u001b[0mon_train_end\u001b[0m\u001b[1;33m(\u001b[0m\u001b[0mself\u001b[0m\u001b[1;33m,\u001b[0m \u001b[0mlogs\u001b[0m\u001b[1;33m=\u001b[0m\u001b[1;32mNone\u001b[0m\u001b[1;33m)\u001b[0m\u001b[1;33m:\u001b[0m\u001b[1;33m\u001b[0m\u001b[1;33m\u001b[0m\u001b[0m\n",
      "\u001b[1;32m~\\anaconda3\\lib\\site-packages\\keras\\callbacks.py\u001b[0m in \u001b[0;36mon_train_begin\u001b[1;34m(self, logs)\u001b[0m\n\u001b[0;32m   2741\u001b[0m     \u001b[1;32melse\u001b[0m\u001b[1;33m:\u001b[0m\u001b[1;33m\u001b[0m\u001b[1;33m\u001b[0m\u001b[0m\n\u001b[0;32m   2742\u001b[0m       \u001b[0mmode\u001b[0m \u001b[1;33m=\u001b[0m \u001b[1;34m'w'\u001b[0m\u001b[1;33m\u001b[0m\u001b[1;33m\u001b[0m\u001b[0m\n\u001b[1;32m-> 2743\u001b[1;33m     self.csv_file = io.open(self.filename,\n\u001b[0m\u001b[0;32m   2744\u001b[0m                             \u001b[0mmode\u001b[0m \u001b[1;33m+\u001b[0m \u001b[0mself\u001b[0m\u001b[1;33m.\u001b[0m\u001b[0mfile_flags\u001b[0m\u001b[1;33m,\u001b[0m\u001b[1;33m\u001b[0m\u001b[1;33m\u001b[0m\u001b[0m\n\u001b[0;32m   2745\u001b[0m                             **self._open_args)\n",
      "\u001b[1;31mFileNotFoundError\u001b[0m: [Errno 2] No such file or directory: '/models/simple dense layer neuronal network_run_log.csv'"
     ]
    }
   ],
   "source": [
    "###############\n",
    "model = Sequential()\n",
    "model.add(embedding_layer_globve)\n",
    "model.add(Dense(256, activation='relu'))\n",
    "model.add(Flatten())\n",
    "model.add(Dense(len(label_id_to_str), activation='softmax'))\n",
    "evaluateModel(model, \"simple dense layer neuronal network\", EPOCHS, BATCH_SIZE, train_texts_cleaned, train_labels_id, test_texts_cleaned, test_labels_id)\n"
   ]
  },
  {
   "cell_type": "markdown",
   "metadata": {
    "id": "fHOZYdXQOl0A"
   },
   "source": [
    "## simple dense layer neuronal network retrainable Dense\n",
    "\n",
    "---\n",
    "\n",
    "\n",
    "\n"
   ]
  },
  {
   "cell_type": "code",
   "execution_count": null,
   "metadata": {
    "colab": {
     "base_uri": "https://localhost:8080/",
     "height": 6869
    },
    "id": "lWSUGjpPHkX3",
    "outputId": "04aa5ec0-d789-47be-b9a3-89446ca3c1de"
   },
   "outputs": [],
   "source": [
    "###############\n",
    "for iDense in [128, 256, 512, 1024]:\n",
    "  model = Sequential()\n",
    "  model.add(get_embedding_layer_globve_trainable())\n",
    "  model.add(Dense(iDense, activation='relu'))\n",
    "  model.add(Flatten())\n",
    "  model.add(Dense(len(label_id_to_str), activation='softmax'))\n",
    "  evaluateModel(model, \"simple dense layer neuronal network retrainable Dense %i\" % iDense, EPOCHS, BATCH_SIZE, train_texts_cleaned, train_labels_id, test_texts_cleaned, test_labels_id)\n"
   ]
  },
  {
   "cell_type": "markdown",
   "metadata": {
    "id": "GBlggtT7RiDO"
   },
   "source": [
    "## Double dense layer neuronal network retrainable Dense\n",
    "\n",
    "---\n",
    "\n"
   ]
  },
  {
   "cell_type": "code",
   "execution_count": null,
   "metadata": {
    "colab": {
     "base_uri": "https://localhost:8080/",
     "height": 5258
    },
    "id": "i5Xn7T0zHxme",
    "outputId": "f9c541b8-592f-4d84-c033-3ecbf33022cb"
   },
   "outputs": [],
   "source": [
    "###############\n",
    "for iDense in [128, 256, 512]:\n",
    "  model = Sequential()\n",
    "  model.add(get_embedding_layer_globve_trainable())\n",
    "  model.add(Dense(iDense, activation='relu'))\n",
    "  model.add(Dense(iDense, activation='relu'))\n",
    "  model.add(Flatten())\n",
    "  model.add(Dense(len(label_id_to_str), activation='softmax'))\n",
    "  evaluateModel(model, \"double dense layer neuronal network retrainable Dense %i\" % iDense, EPOCHS, BATCH_SIZE, train_texts_cleaned, train_labels_id, test_texts_cleaned, test_labels_id)\n"
   ]
  },
  {
   "cell_type": "markdown",
   "metadata": {
    "id": "aGIJ4B-UTrCb"
   },
   "source": [
    "## cnn + lstm + GlobVe Embedding\n",
    "\n",
    "---\n",
    "\n"
   ]
  },
  {
   "cell_type": "code",
   "execution_count": null,
   "metadata": {
    "colab": {
     "base_uri": "https://localhost:8080/",
     "height": 1781
    },
    "id": "k8johSHqjve-",
    "outputId": "a2f3668b-8c21-4a4b-a96c-47ed7caf466e"
   },
   "outputs": [],
   "source": [
    "########################\n",
    "model = Sequential()\n",
    "model.add(embedding_layer_globve)\n",
    "model.add(Conv1D(128, 5, activation='relu'))\n",
    "model.add(MaxPooling1D(5))\n",
    "model.add(LSTM(128, dropout=0.2, recurrent_dropout=0.2))\n",
    "model.add(Dense(len(label_id_to_str), activation='softmax'))\n",
    "\n",
    "evaluateModel(model, \"cnn + lstm + GlobVe Embedding\", EPOCHS, BATCH_SIZE,\n",
    "              train_texts_cleaned, train_labels_id, test_texts_cleaned, test_labels_id)\n"
   ]
  },
  {
   "cell_type": "markdown",
   "metadata": {
    "id": "V9MVg1TedUvQ"
   },
   "source": [
    "## simple one layer neuronal network retrainable\n",
    "\n",
    "---\n",
    "\n"
   ]
  },
  {
   "cell_type": "code",
   "execution_count": null,
   "metadata": {
    "colab": {
     "base_uri": "https://localhost:8080/",
     "height": 1781
    },
    "id": "VCPxAThvmihF",
    "outputId": "0ce78ac4-1749-4cfc-ec98-1311751483b6"
   },
   "outputs": [],
   "source": [
    "########################\n",
    "model = Sequential()\n",
    "model.add(get_embedding_layer_globve_trainable())\n",
    "model.add(Conv1D(128, 5, activation='relu'))\n",
    "model.add(MaxPooling1D(5))\n",
    "model.add(LSTM(128, dropout=0.2, recurrent_dropout=0.2))\n",
    "model.add(Dense(len(label_id_to_str), activation='softmax'))\n",
    "\n",
    "evaluateModel(model, \"cnn + lstm + GlobVe Embedding Retrainable\", EPOCHS, BATCH_SIZE,\n",
    "              train_texts_cleaned, train_labels_id, test_texts_cleaned, test_labels_id)"
   ]
  },
  {
   "cell_type": "markdown",
   "metadata": {
    "id": "PK58c0v0XY8O"
   },
   "source": [
    "## simple one layer neuronal network\n",
    "\n",
    "---\n",
    "\n"
   ]
  },
  {
   "cell_type": "code",
   "execution_count": null,
   "metadata": {
    "colab": {
     "base_uri": "https://localhost:8080/",
     "height": 1713
    },
    "id": "8d-5uXNqkj3S",
    "outputId": "ed7381e2-560c-4a78-a1f6-e63b232b5fcd"
   },
   "outputs": [],
   "source": [
    "\n",
    "\n",
    "###############\n",
    "model = Sequential()\n",
    "model.add(embedding_layer_globve)\n",
    "model.add(Flatten())\n",
    "model.add(Dense(len(label_id_to_str), activation='softmax'))\n",
    "\n",
    "evaluateModel(model, \"simple one layer neuronal network\", EPOCHS, BATCH_SIZE,\n",
    "              train_texts_cleaned, train_labels_id, test_texts_cleaned, test_labels_id)\n",
    "\n"
   ]
  },
  {
   "cell_type": "markdown",
   "metadata": {
    "id": "djB770q0dMOy"
   },
   "source": [
    "## simple one layer neuronal network retrainable\n",
    "\n",
    "---\n",
    "\n"
   ]
  },
  {
   "cell_type": "code",
   "execution_count": null,
   "metadata": {
    "colab": {
     "base_uri": "https://localhost:8080/",
     "height": 1713
    },
    "id": "8LDAknH8mvaX",
    "outputId": "2a5e4a5a-1cad-4b5a-9fa1-86dc33c4a10e"
   },
   "outputs": [],
   "source": [
    "###############\n",
    "model = Sequential()\n",
    "model.add(get_embedding_layer_globve_trainable())\n",
    "model.add(Flatten())\n",
    "model.add(Dense(len(label_id_to_str), activation='softmax'))\n",
    "\n",
    "evaluateModel(model, \"simple one layer neuronal network retrainable\", EPOCHS, BATCH_SIZE,\n",
    "              train_texts_cleaned, train_labels_id, test_texts_cleaned, test_labels_id)\n",
    "\n"
   ]
  },
  {
   "cell_type": "markdown",
   "metadata": {
    "id": "XOkWhX1AYEqG"
   },
   "source": [
    "## LSTM without dropout + custom embedding\n",
    "\n",
    "---\n",
    "\n"
   ]
  },
  {
   "cell_type": "code",
   "execution_count": null,
   "metadata": {
    "colab": {
     "base_uri": "https://localhost:8080/",
     "height": 1713
    },
    "id": "Kb37JLYWklss",
    "outputId": "5bfb22a3-beb9-407a-ab93-9949f4ea40a4"
   },
   "outputs": [],
   "source": [
    "\n",
    "########################\n",
    "model = Sequential()\n",
    "model.add(get_embedding_layer_empty())\n",
    "model.add(LSTM(128))\n",
    "model.add(Dense(len(label_id_to_str), activation='softmax'))\n",
    "\n",
    "evaluateModel(model, \"LSTM without dropout + custom embedding\", EPOCHS, BATCH_SIZE,\n",
    "              train_texts_cleaned, train_labels_id, test_texts_cleaned, test_labels_id)"
   ]
  },
  {
   "cell_type": "markdown",
   "metadata": {
    "id": "tzLmH9iUY6u4"
   },
   "source": [
    "## LSTM + custom Embedding\n",
    "\n",
    "---\n",
    "\n"
   ]
  },
  {
   "cell_type": "code",
   "execution_count": 15,
   "metadata": {
    "colab": {
     "base_uri": "https://localhost:8080/",
     "height": 1713
    },
    "id": "oIUW845Tkmqp",
    "outputId": "037177e6-6e5a-41dc-877c-ffbb9da88160"
   },
   "outputs": [
    {
     "name": "stdout",
     "output_type": "stream",
     "text": [
      "\n",
      "\n",
      "#################### LSTM + custom Embedding ####################\n",
      "Model: \"sequential_1\"\n",
      "_________________________________________________________________\n",
      "Layer (type)                 Output Shape              Param #   \n",
      "=================================================================\n",
      "embedding_3 (Embedding)      (None, 100, 100)          8770200   \n",
      "_________________________________________________________________\n",
      "lstm_1 (LSTM)                (None, 128)               117248    \n",
      "_________________________________________________________________\n",
      "dense_1 (Dense)              (None, 20)                2580      \n",
      "=================================================================\n",
      "Total params: 8,890,028\n",
      "Trainable params: 8,890,028\n",
      "Non-trainable params: 0\n",
      "_________________________________________________________________\n",
      "None\n"
     ]
    },
    {
     "ename": "NameError",
     "evalue": "name 'BASE_PATH' is not defined",
     "output_type": "error",
     "traceback": [
      "\u001b[1;31m---------------------------------------------------------------------------\u001b[0m",
      "\u001b[1;31mNameError\u001b[0m                                 Traceback (most recent call last)",
      "\u001b[1;32m<ipython-input-15-47c45487f31a>\u001b[0m in \u001b[0;36m<module>\u001b[1;34m\u001b[0m\n\u001b[0;32m      5\u001b[0m \u001b[0mmodel\u001b[0m\u001b[1;33m.\u001b[0m\u001b[0madd\u001b[0m\u001b[1;33m(\u001b[0m\u001b[0mDense\u001b[0m\u001b[1;33m(\u001b[0m\u001b[0mlen\u001b[0m\u001b[1;33m(\u001b[0m\u001b[0mlabel_id_to_str\u001b[0m\u001b[1;33m)\u001b[0m\u001b[1;33m,\u001b[0m \u001b[0mactivation\u001b[0m\u001b[1;33m=\u001b[0m\u001b[1;34m'softmax'\u001b[0m\u001b[1;33m)\u001b[0m\u001b[1;33m)\u001b[0m\u001b[1;33m\u001b[0m\u001b[1;33m\u001b[0m\u001b[0m\n\u001b[0;32m      6\u001b[0m \u001b[1;33m\u001b[0m\u001b[0m\n\u001b[1;32m----> 7\u001b[1;33m evaluateModel(model, \"LSTM + custom Embedding\", EPOCHS, BATCH_SIZE,\n\u001b[0m\u001b[0;32m      8\u001b[0m               train_texts_cleaned, train_labels_id, test_texts_cleaned, test_labels_id)\n",
      "\u001b[1;32m<ipython-input-13-ee1f6c8d0d7e>\u001b[0m in \u001b[0;36mevaluateModel\u001b[1;34m(model, description, epochs, batch_size, train_texts, train_labels_id, test_texts, test_labels_id)\u001b[0m\n\u001b[0;32m      6\u001b[0m         \u001b[0mprint\u001b[0m\u001b[1;33m(\u001b[0m\u001b[0mmodel\u001b[0m\u001b[1;33m.\u001b[0m\u001b[0msummary\u001b[0m\u001b[1;33m(\u001b[0m\u001b[1;33m)\u001b[0m\u001b[1;33m)\u001b[0m\u001b[1;33m\u001b[0m\u001b[1;33m\u001b[0m\u001b[0m\n\u001b[0;32m      7\u001b[0m         \u001b[0mmodel\u001b[0m\u001b[1;33m.\u001b[0m\u001b[0mcompile\u001b[0m\u001b[1;33m(\u001b[0m\u001b[0mloss\u001b[0m\u001b[1;33m=\u001b[0m\u001b[1;34m'categorical_crossentropy'\u001b[0m\u001b[1;33m,\u001b[0m \u001b[0moptimizer\u001b[0m\u001b[1;33m=\u001b[0m\u001b[1;34m'adam'\u001b[0m\u001b[1;33m,\u001b[0m \u001b[0mmetrics\u001b[0m\u001b[1;33m=\u001b[0m\u001b[1;33m[\u001b[0m\u001b[1;34m'acc'\u001b[0m\u001b[1;33m]\u001b[0m\u001b[1;33m)\u001b[0m\u001b[1;33m\u001b[0m\u001b[1;33m\u001b[0m\u001b[0m\n\u001b[1;32m----> 8\u001b[1;33m         \u001b[0mcsv_logger\u001b[0m \u001b[1;33m=\u001b[0m \u001b[0mCSVLogger\u001b[0m\u001b[1;33m(\u001b[0m\u001b[0mBASE_PATH\u001b[0m \u001b[1;33m+\u001b[0m \u001b[1;34m'/models/'\u001b[0m \u001b[1;33m+\u001b[0m \u001b[0mdescription\u001b[0m \u001b[1;33m+\u001b[0m \u001b[1;34m'_run_log.csv'\u001b[0m\u001b[1;33m)\u001b[0m\u001b[1;33m\u001b[0m\u001b[1;33m\u001b[0m\u001b[0m\n\u001b[0m\u001b[0;32m      9\u001b[0m         \u001b[0mhistory\u001b[0m \u001b[1;33m=\u001b[0m \u001b[0mmodel\u001b[0m\u001b[1;33m.\u001b[0m\u001b[0mfit\u001b[0m\u001b[1;33m(\u001b[0m\u001b[0mtrain_texts\u001b[0m\u001b[1;33m,\u001b[0m \u001b[0mtrain_labels_id\u001b[0m\u001b[1;33m,\u001b[0m \u001b[0mbatch_size\u001b[0m\u001b[1;33m=\u001b[0m\u001b[0mBATCH_SIZE\u001b[0m\u001b[1;33m,\u001b[0m \u001b[0mepochs\u001b[0m\u001b[1;33m=\u001b[0m\u001b[0mEPOCHS\u001b[0m\u001b[1;33m,\u001b[0m \u001b[0mvalidation_data\u001b[0m\u001b[1;33m=\u001b[0m\u001b[1;33m(\u001b[0m\u001b[0mtest_texts\u001b[0m\u001b[1;33m,\u001b[0m \u001b[0mtest_labels_id\u001b[0m\u001b[1;33m)\u001b[0m\u001b[1;33m,\u001b[0m \u001b[0mcallbacks\u001b[0m\u001b[1;33m=\u001b[0m\u001b[1;33m[\u001b[0m\u001b[0mcsv_logger\u001b[0m\u001b[1;33m]\u001b[0m\u001b[1;33m)\u001b[0m\u001b[1;33m\u001b[0m\u001b[1;33m\u001b[0m\u001b[0m\n\u001b[0;32m     10\u001b[0m         \u001b[1;31m#print(\"\\n final results on test set:\")\u001b[0m\u001b[1;33m\u001b[0m\u001b[1;33m\u001b[0m\u001b[1;33m\u001b[0m\u001b[0m\n",
      "\u001b[1;31mNameError\u001b[0m: name 'BASE_PATH' is not defined"
     ]
    }
   ],
   "source": [
    "\n",
    "########################\n",
    "model = Sequential()\n",
    "model.add(get_embedding_layer_empty())\n",
    "model.add(LSTM(128, dropout=0.2, recurrent_dropout=0.2))\n",
    "model.add(Dense(len(label_id_to_str), activation='softmax'))\n",
    "\n",
    "evaluateModel(model, \"LSTM + custom Embedding\", EPOCHS, BATCH_SIZE,\n",
    "              train_texts_cleaned, train_labels_id, test_texts_cleaned, test_labels_id)\n"
   ]
  },
  {
   "cell_type": "markdown",
   "metadata": {
    "id": "tDLppo7xZCp7"
   },
   "source": [
    "## LSTM + GlobVe Embedding\n",
    "\n",
    "---\n",
    "\n"
   ]
  },
  {
   "cell_type": "code",
   "execution_count": null,
   "metadata": {
    "colab": {
     "base_uri": "https://localhost:8080/",
     "height": 1713
    },
    "id": "FYDZ64wTknrG",
    "outputId": "e411e35b-f377-4ffe-d3d1-ae6284d34730"
   },
   "outputs": [
    {
     "name": "stdout",
     "output_type": "stream",
     "text": [
      "\n",
      "\n",
      "#################### LSTM + GlobVe Embedding ####################\n",
      "_________________________________________________________________\n",
      "Layer (type)                 Output Shape              Param #   \n",
      "=================================================================\n",
      "embedding_1 (Embedding)      (None, 128, 100)          3000000   \n",
      "_________________________________________________________________\n",
      "lstm_20 (LSTM)               (None, 128)               117248    \n",
      "_________________________________________________________________\n",
      "dense_41 (Dense)             (None, 20)                2580      \n",
      "=================================================================\n",
      "Total params: 3,119,828\n",
      "Trainable params: 119,828\n",
      "Non-trainable params: 3,000,000\n",
      "_________________________________________________________________\n",
      "None\n",
      "Train on 15076 samples, validate on 3770 samples\n",
      "Epoch 1/30\n",
      "15076/15076 [==============================] - 20s 1ms/step - loss: 2.5643 - acc: 0.1997 - val_loss: 2.0781 - val_acc: 0.3268\n",
      "Epoch 2/30\n",
      "15076/15076 [==============================] - 13s 888us/step - loss: 2.0491 - acc: 0.3352 - val_loss: 1.8577 - val_acc: 0.3976\n",
      "Epoch 3/30\n",
      "15076/15076 [==============================] - 13s 895us/step - loss: 1.8573 - acc: 0.3952 - val_loss: 1.7097 - val_acc: 0.4483\n",
      "Epoch 4/30\n",
      "15076/15076 [==============================] - 15s 996us/step - loss: 1.7082 - acc: 0.4445 - val_loss: 1.5271 - val_acc: 0.5069\n",
      "Epoch 5/30\n",
      "15076/15076 [==============================] - 15s 994us/step - loss: 1.5960 - acc: 0.4810 - val_loss: 1.4350 - val_acc: 0.5321\n",
      "Epoch 6/30\n",
      "15076/15076 [==============================] - 14s 906us/step - loss: 1.5085 - acc: 0.5100 - val_loss: 1.3606 - val_acc: 0.5560\n",
      "Epoch 7/30\n",
      "15076/15076 [==============================] - 13s 889us/step - loss: 1.4312 - acc: 0.5370 - val_loss: 1.3234 - val_acc: 0.5737\n",
      "Epoch 8/30\n",
      "15076/15076 [==============================] - 13s 893us/step - loss: 1.3659 - acc: 0.5596 - val_loss: 1.2740 - val_acc: 0.5889\n",
      "Epoch 9/30\n",
      "15076/15076 [==============================] - 13s 888us/step - loss: 1.3169 - acc: 0.5780 - val_loss: 1.2533 - val_acc: 0.5968\n",
      "Epoch 10/30\n",
      "15076/15076 [==============================] - 15s 990us/step - loss: 1.2758 - acc: 0.5915 - val_loss: 1.2216 - val_acc: 0.6053\n",
      "Epoch 11/30\n",
      "15076/15076 [==============================] - 14s 948us/step - loss: 1.2408 - acc: 0.6026 - val_loss: 1.2070 - val_acc: 0.6172\n",
      "Epoch 12/30\n",
      "15076/15076 [==============================] - 13s 890us/step - loss: 1.2095 - acc: 0.6135 - val_loss: 1.1850 - val_acc: 0.6276\n",
      "Epoch 13/30\n",
      "15076/15076 [==============================] - 13s 889us/step - loss: 1.1785 - acc: 0.6250 - val_loss: 1.1645 - val_acc: 0.6310\n",
      "Epoch 14/30\n",
      "15076/15076 [==============================] - 13s 895us/step - loss: 1.1550 - acc: 0.6317 - val_loss: 1.1567 - val_acc: 0.6353\n",
      "Epoch 15/30\n",
      "15076/15076 [==============================] - 14s 903us/step - loss: 1.1292 - acc: 0.6393 - val_loss: 1.1407 - val_acc: 0.6440\n",
      "Epoch 16/30\n",
      "15076/15076 [==============================] - 15s 973us/step - loss: 1.1046 - acc: 0.6481 - val_loss: 1.1284 - val_acc: 0.6456\n",
      "Epoch 17/30\n",
      "15076/15076 [==============================] - 13s 889us/step - loss: 1.0840 - acc: 0.6513 - val_loss: 1.1227 - val_acc: 0.6446\n",
      "Epoch 18/30\n",
      "15076/15076 [==============================] - 13s 890us/step - loss: 1.0569 - acc: 0.6676 - val_loss: 1.1184 - val_acc: 0.6440\n",
      "Epoch 19/30\n",
      "15076/15076 [==============================] - 13s 883us/step - loss: 1.0412 - acc: 0.6667 - val_loss: 1.1134 - val_acc: 0.6546\n",
      "Epoch 20/30\n",
      "15076/15076 [==============================] - 13s 893us/step - loss: 1.0276 - acc: 0.6735 - val_loss: 1.0916 - val_acc: 0.6599\n",
      "Epoch 21/30\n",
      "15076/15076 [==============================] - 14s 924us/step - loss: 1.0090 - acc: 0.6739 - val_loss: 1.0955 - val_acc: 0.6549\n",
      "Epoch 22/30\n",
      "15076/15076 [==============================] - 15s 964us/step - loss: 0.9914 - acc: 0.6833 - val_loss: 1.0858 - val_acc: 0.6631\n",
      "Epoch 23/30\n",
      "15076/15076 [==============================] - 13s 891us/step - loss: 0.9760 - acc: 0.6891 - val_loss: 1.0798 - val_acc: 0.6653\n",
      "Epoch 24/30\n",
      "15076/15076 [==============================] - 13s 885us/step - loss: 0.9577 - acc: 0.6943 - val_loss: 1.0802 - val_acc: 0.6631\n",
      "Epoch 25/30\n",
      "15076/15076 [==============================] - 13s 881us/step - loss: 0.9466 - acc: 0.6988 - val_loss: 1.0775 - val_acc: 0.6629\n",
      "Epoch 26/30\n",
      "15076/15076 [==============================] - 13s 885us/step - loss: 0.9292 - acc: 0.7056 - val_loss: 1.0671 - val_acc: 0.6637\n",
      "Epoch 27/30\n",
      "15076/15076 [==============================] - 14s 933us/step - loss: 0.9110 - acc: 0.7071 - val_loss: 1.0740 - val_acc: 0.6682\n",
      "Epoch 28/30\n",
      "15076/15076 [==============================] - 15s 1ms/step - loss: 0.8989 - acc: 0.7135 - val_loss: 1.0607 - val_acc: 0.6679\n",
      "Epoch 29/30\n",
      "15076/15076 [==============================] - 13s 892us/step - loss: 0.8863 - acc: 0.7146 - val_loss: 1.0732 - val_acc: 0.6647\n",
      "Epoch 30/30\n",
      "15076/15076 [==============================] - 13s 890us/step - loss: 0.8753 - acc: 0.7191 - val_loss: 1.0717 - val_acc: 0.6668\n",
      "3770/3770 [==============================] - 10s 3ms/step\n"
     ]
    },
    {
     "data": {
      "text/plain": [
       "<keras.callbacks.History at 0x7f02abe5d5c0>"
      ]
     },
     "execution_count": 31,
     "metadata": {
      "tags": []
     },
     "output_type": "execute_result"
    },
    {
     "data": {
      "image/png": "[encoded data removed]",
      "text/plain": [
       "<Figure size 864x360 with 2 Axes>"
      ]
     },
     "metadata": {
      "tags": []
     },
     "output_type": "display_data"
    }
   ],
   "source": [
    "\n",
    "\n",
    "########################\n",
    "model = Sequential()\n",
    "model.add(embedding_layer_globve)\n",
    "model.add(LSTM(128, dropout=0.2, recurrent_dropout=0.2))\n",
    "model.add(Dense(len(label_id_to_str), activation='softmax'))\n",
    "\n",
    "evaluateModel(model, \"LSTM + GlobVe Embedding\", EPOCHS, BATCH_SIZE,\n",
    "              train_texts_cleaned, train_labels_id, test_texts_cleaned, test_labels_id)\n"
   ]
  },
  {
   "cell_type": "markdown",
   "metadata": {
    "id": "4VP6c9lNdC7o"
   },
   "source": [
    "## stacked lstm + GlobVe Embedding\n",
    "\n",
    "---\n",
    "\n"
   ]
  },
  {
   "cell_type": "code",
   "execution_count": null,
   "metadata": {
    "colab": {
     "base_uri": "https://localhost:8080/",
     "height": 1747
    },
    "id": "zSE5BVd4kojK",
    "outputId": "12a0b820-7a0d-4ebb-db86-fe1704395b88"
   },
   "outputs": [
    {
     "name": "stdout",
     "output_type": "stream",
     "text": [
      "\n",
      "\n",
      "#################### stacked lstm + GlobVe Embedding ####################\n",
      "_________________________________________________________________\n",
      "Layer (type)                 Output Shape              Param #   \n",
      "=================================================================\n",
      "embedding_1 (Embedding)      (None, 128, 100)          3000000   \n",
      "_________________________________________________________________\n",
      "lstm_21 (LSTM)               (None, 128, 128)          117248    \n",
      "_________________________________________________________________\n",
      "lstm_22 (LSTM)               (None, 128)               131584    \n",
      "_________________________________________________________________\n",
      "dense_42 (Dense)             (None, 20)                2580      \n",
      "=================================================================\n",
      "Total params: 3,251,412\n",
      "Trainable params: 251,412\n",
      "Non-trainable params: 3,000,000\n",
      "_________________________________________________________________\n",
      "None\n",
      "Train on 15076 samples, validate on 3770 samples\n",
      "Epoch 1/30\n",
      "15076/15076 [==============================] - 36s 2ms/step - loss: 2.4939 - acc: 0.1978 - val_loss: 2.0238 - val_acc: 0.3271\n",
      "Epoch 2/30\n",
      "15076/15076 [==============================] - 27s 2ms/step - loss: 1.9926 - acc: 0.3287 - val_loss: 1.7588 - val_acc: 0.4114\n",
      "Epoch 3/30\n",
      "15076/15076 [==============================] - 27s 2ms/step - loss: 1.8059 - acc: 0.3953 - val_loss: 1.5951 - val_acc: 0.4780\n",
      "Epoch 4/30\n",
      "15076/15076 [==============================] - 29s 2ms/step - loss: 1.6788 - acc: 0.4390 - val_loss: 1.5178 - val_acc: 0.5119\n",
      "Epoch 5/30\n",
      "15076/15076 [==============================] - 27s 2ms/step - loss: 1.6156 - acc: 0.4627 - val_loss: 1.4742 - val_acc: 0.5119\n",
      "Epoch 6/30\n",
      "15076/15076 [==============================] - 27s 2ms/step - loss: 1.5252 - acc: 0.4964 - val_loss: 1.3990 - val_acc: 0.5491\n",
      "Epoch 7/30\n",
      "15076/15076 [==============================] - 29s 2ms/step - loss: 1.4686 - acc: 0.5203 - val_loss: 1.3551 - val_acc: 0.5631\n",
      "Epoch 8/30\n",
      "15076/15076 [==============================] - 27s 2ms/step - loss: 1.4289 - acc: 0.5312 - val_loss: 1.3464 - val_acc: 0.5570\n",
      "Epoch 9/30\n",
      "15076/15076 [==============================] - 28s 2ms/step - loss: 1.3778 - acc: 0.5513 - val_loss: 1.3053 - val_acc: 0.5764\n",
      "Epoch 10/30\n",
      "15076/15076 [==============================] - 30s 2ms/step - loss: 1.3527 - acc: 0.5578 - val_loss: 1.2808 - val_acc: 0.5939\n",
      "Epoch 11/30\n",
      "15076/15076 [==============================] - 27s 2ms/step - loss: 1.3214 - acc: 0.5684 - val_loss: 1.2638 - val_acc: 0.5968\n",
      "Epoch 12/30\n",
      "15076/15076 [==============================] - 28s 2ms/step - loss: 1.2888 - acc: 0.5846 - val_loss: 1.2515 - val_acc: 0.6003\n",
      "Epoch 13/30\n",
      "15076/15076 [==============================] - 29s 2ms/step - loss: 1.2690 - acc: 0.5894 - val_loss: 1.2394 - val_acc: 0.6053\n",
      "Epoch 14/30\n",
      "15076/15076 [==============================] - 27s 2ms/step - loss: 1.2384 - acc: 0.6000 - val_loss: 1.2172 - val_acc: 0.6117\n",
      "Epoch 15/30\n",
      "15076/15076 [==============================] - 28s 2ms/step - loss: 1.2162 - acc: 0.6066 - val_loss: 1.2071 - val_acc: 0.6199\n",
      "Epoch 16/30\n",
      "15076/15076 [==============================] - 28s 2ms/step - loss: 1.2046 - acc: 0.6076 - val_loss: 1.1977 - val_acc: 0.6199\n",
      "Epoch 17/30\n",
      "15076/15076 [==============================] - 27s 2ms/step - loss: 1.1725 - acc: 0.6191 - val_loss: 1.1793 - val_acc: 0.6286\n",
      "Epoch 18/30\n",
      "15076/15076 [==============================] - 28s 2ms/step - loss: 1.1513 - acc: 0.6270 - val_loss: 1.1683 - val_acc: 0.6353\n",
      "Epoch 19/30\n",
      "15076/15076 [==============================] - 28s 2ms/step - loss: 1.1439 - acc: 0.6291 - val_loss: 1.1682 - val_acc: 0.6345\n",
      "Epoch 20/30\n",
      "15076/15076 [==============================] - 27s 2ms/step - loss: 1.1234 - acc: 0.6374 - val_loss: 1.1471 - val_acc: 0.6403\n",
      "Epoch 21/30\n",
      "15076/15076 [==============================] - 30s 2ms/step - loss: 1.1018 - acc: 0.6458 - val_loss: 1.1388 - val_acc: 0.6462\n",
      "Epoch 22/30\n",
      "15076/15076 [==============================] - 27s 2ms/step - loss: 1.0828 - acc: 0.6532 - val_loss: 1.1294 - val_acc: 0.6464\n",
      "Epoch 23/30\n",
      "15076/15076 [==============================] - 28s 2ms/step - loss: 1.0585 - acc: 0.6567 - val_loss: 1.1231 - val_acc: 0.6446\n",
      "Epoch 24/30\n",
      "15076/15076 [==============================] - 29s 2ms/step - loss: 1.0487 - acc: 0.6617 - val_loss: 1.1305 - val_acc: 0.6472\n",
      "Epoch 25/30\n",
      "15076/15076 [==============================] - 27s 2ms/step - loss: 1.0372 - acc: 0.6672 - val_loss: 1.1169 - val_acc: 0.6544\n",
      "Epoch 26/30\n",
      "15076/15076 [==============================] - 27s 2ms/step - loss: 1.0181 - acc: 0.6706 - val_loss: 1.1081 - val_acc: 0.6552\n",
      "Epoch 27/30\n",
      "15076/15076 [==============================] - 29s 2ms/step - loss: 1.0025 - acc: 0.6744 - val_loss: 1.1210 - val_acc: 0.6546\n",
      "Epoch 28/30\n",
      "15076/15076 [==============================] - 27s 2ms/step - loss: 0.9880 - acc: 0.6812 - val_loss: 1.1051 - val_acc: 0.6592\n",
      "Epoch 29/30\n",
      "15076/15076 [==============================] - 27s 2ms/step - loss: 0.9763 - acc: 0.6853 - val_loss: 1.0962 - val_acc: 0.6626\n",
      "Epoch 30/30\n",
      "15076/15076 [==============================] - 29s 2ms/step - loss: 0.9572 - acc: 0.6920 - val_loss: 1.0905 - val_acc: 0.6631\n",
      "3770/3770 [==============================] - 19s 5ms/step\n"
     ]
    },
    {
     "data": {
      "text/plain": [
       "<keras.callbacks.History at 0x7f019110cac8>"
      ]
     },
     "execution_count": 32,
     "metadata": {
      "tags": []
     },
     "output_type": "execute_result"
    },
    {
     "data": {
      "image/png": "[encoded data removed]",
      "text/plain": [
       "<Figure size 864x360 with 2 Axes>"
      ]
     },
     "metadata": {
      "tags": []
     },
     "output_type": "display_data"
    }
   ],
   "source": [
    "########################\n",
    "model = Sequential()\n",
    "model.add(embedding_layer_globve)\n",
    "model.add(LSTM(128, dropout=0.2, recurrent_dropout=0.2, return_sequences=True))\n",
    "model.add(LSTM(128, dropout=0.2, recurrent_dropout=0.2))\n",
    "model.add(Dense(len(label_id_to_str), activation='softmax'))\n",
    "\n",
    "evaluateModel(model, \"stacked lstm + GlobVe Embedding\", EPOCHS, BATCH_SIZE, train_texts_cleaned, train_labels_id, test_texts_cleaned, test_labels_id)\n"
   ]
  },
  {
   "cell_type": "markdown",
   "metadata": {
    "id": "26sHE3SFc65r"
   },
   "source": [
    "## stacked lstm + GlobVe Embedding Retrainable\n",
    "\n",
    "---\n",
    "\n"
   ]
  },
  {
   "cell_type": "code",
   "execution_count": null,
   "metadata": {
    "colab": {
     "base_uri": "https://localhost:8080/",
     "height": 1747
    },
    "id": "t__ZTsf4gg4H",
    "outputId": "60942eb8-f685-4406-efec-3ae2b0c0adfd"
   },
   "outputs": [
    {
     "name": "stdout",
     "output_type": "stream",
     "text": [
      "\n",
      "\n",
      "#################### stacked lstm + GlobVe Embedding Retrainable ####################\n",
      "_________________________________________________________________\n",
      "Layer (type)                 Output Shape              Param #   \n",
      "=================================================================\n",
      "embedding_28 (Embedding)     (None, 128, 100)          3000000   \n",
      "_________________________________________________________________\n",
      "lstm_23 (LSTM)               (None, 128, 128)          117248    \n",
      "_________________________________________________________________\n",
      "lstm_24 (LSTM)               (None, 128)               131584    \n",
      "_________________________________________________________________\n",
      "dense_43 (Dense)             (None, 20)                2580      \n",
      "=================================================================\n",
      "Total params: 3,251,412\n",
      "Trainable params: 3,251,412\n",
      "Non-trainable params: 0\n",
      "_________________________________________________________________\n",
      "None\n",
      "Train on 15076 samples, validate on 3770 samples\n",
      "Epoch 1/30\n",
      "15076/15076 [==============================] - 40s 3ms/step - loss: 2.4510 - acc: 0.2193 - val_loss: 1.8987 - val_acc: 0.3833\n",
      "Epoch 2/30\n",
      "15076/15076 [==============================] - 30s 2ms/step - loss: 1.8975 - acc: 0.3618 - val_loss: 1.6392 - val_acc: 0.4443\n",
      "Epoch 3/30\n",
      "15076/15076 [==============================] - 30s 2ms/step - loss: 1.6533 - acc: 0.4453 - val_loss: 1.4739 - val_acc: 0.5172\n",
      "Epoch 4/30\n",
      "15076/15076 [==============================] - 31s 2ms/step - loss: 1.4975 - acc: 0.4996 - val_loss: 1.3714 - val_acc: 0.5528\n",
      "Epoch 5/30\n",
      "15076/15076 [==============================] - 29s 2ms/step - loss: 1.3533 - acc: 0.5473 - val_loss: 1.2830 - val_acc: 0.5732\n",
      "Epoch 6/30\n",
      "15076/15076 [==============================] - 29s 2ms/step - loss: 1.2511 - acc: 0.5844 - val_loss: 1.2193 - val_acc: 0.6064\n",
      "Epoch 7/30\n",
      "15076/15076 [==============================] - 30s 2ms/step - loss: 1.1324 - acc: 0.6258 - val_loss: 1.1781 - val_acc: 0.6223\n",
      "Epoch 8/30\n",
      "15076/15076 [==============================] - 28s 2ms/step - loss: 1.0504 - acc: 0.6543 - val_loss: 1.1518 - val_acc: 0.6318\n",
      "Epoch 9/30\n",
      "15076/15076 [==============================] - 29s 2ms/step - loss: 0.9735 - acc: 0.6844 - val_loss: 1.1184 - val_acc: 0.6531\n",
      "Epoch 10/30\n",
      "15076/15076 [==============================] - 29s 2ms/step - loss: 0.8956 - acc: 0.7064 - val_loss: 1.0955 - val_acc: 0.6663\n",
      "Epoch 11/30\n",
      "15076/15076 [==============================] - 30s 2ms/step - loss: 0.8279 - acc: 0.7299 - val_loss: 1.0977 - val_acc: 0.6687\n",
      "Epoch 12/30\n",
      "15076/15076 [==============================] - 30s 2ms/step - loss: 0.7658 - acc: 0.7515 - val_loss: 1.0861 - val_acc: 0.6764\n",
      "Epoch 13/30\n",
      "15076/15076 [==============================] - 29s 2ms/step - loss: 0.7098 - acc: 0.7694 - val_loss: 1.0714 - val_acc: 0.6777\n",
      "Epoch 14/30\n",
      "15076/15076 [==============================] - 28s 2ms/step - loss: 0.6633 - acc: 0.7877 - val_loss: 1.0683 - val_acc: 0.6931\n",
      "Epoch 15/30\n",
      "15076/15076 [==============================] - 30s 2ms/step - loss: 0.6097 - acc: 0.8060 - val_loss: 1.0985 - val_acc: 0.6910\n",
      "Epoch 16/30\n",
      "15076/15076 [==============================] - 28s 2ms/step - loss: 0.5722 - acc: 0.8172 - val_loss: 1.0709 - val_acc: 0.6907\n",
      "Epoch 17/30\n",
      "15076/15076 [==============================] - 28s 2ms/step - loss: 0.5239 - acc: 0.8318 - val_loss: 1.1039 - val_acc: 0.6979\n",
      "Epoch 18/30\n",
      "15076/15076 [==============================] - 30s 2ms/step - loss: 0.4861 - acc: 0.8492 - val_loss: 1.1219 - val_acc: 0.7000\n",
      "Epoch 19/30\n",
      "15076/15076 [==============================] - 28s 2ms/step - loss: 0.4375 - acc: 0.8616 - val_loss: 1.1459 - val_acc: 0.7005\n",
      "Epoch 20/30\n",
      "15076/15076 [==============================] - 29s 2ms/step - loss: 0.4126 - acc: 0.8742 - val_loss: 1.1527 - val_acc: 0.7077\n",
      "Epoch 21/30\n",
      "15076/15076 [==============================] - 30s 2ms/step - loss: 0.3947 - acc: 0.8789 - val_loss: 1.1653 - val_acc: 0.6968\n",
      "Epoch 22/30\n",
      "15076/15076 [==============================] - 29s 2ms/step - loss: 0.3688 - acc: 0.8857 - val_loss: 1.1892 - val_acc: 0.7032\n",
      "Epoch 23/30\n",
      "15076/15076 [==============================] - 30s 2ms/step - loss: 0.3445 - acc: 0.8936 - val_loss: 1.1910 - val_acc: 0.7016\n",
      "Epoch 24/30\n",
      "15076/15076 [==============================] - 28s 2ms/step - loss: 0.3182 - acc: 0.9022 - val_loss: 1.2260 - val_acc: 0.7056\n",
      "Epoch 25/30\n",
      "15076/15076 [==============================] - 28s 2ms/step - loss: 0.3017 - acc: 0.9096 - val_loss: 1.2398 - val_acc: 0.7080\n",
      "Epoch 26/30\n",
      "15076/15076 [==============================] - 30s 2ms/step - loss: 0.2865 - acc: 0.9124 - val_loss: 1.2789 - val_acc: 0.7037\n",
      "Epoch 27/30\n",
      "15076/15076 [==============================] - 28s 2ms/step - loss: 0.2737 - acc: 0.9168 - val_loss: 1.2847 - val_acc: 0.7045\n",
      "Epoch 28/30\n",
      "15076/15076 [==============================] - 28s 2ms/step - loss: 0.2532 - acc: 0.9232 - val_loss: 1.3116 - val_acc: 0.7088\n",
      "Epoch 29/30\n",
      "15076/15076 [==============================] - 30s 2ms/step - loss: 0.2517 - acc: 0.9243 - val_loss: 1.3241 - val_acc: 0.7090\n",
      "Epoch 30/30\n",
      "15076/15076 [==============================] - 28s 2ms/step - loss: 0.2411 - acc: 0.9267 - val_loss: 1.3296 - val_acc: 0.7135\n",
      "3770/3770 [==============================] - 19s 5ms/step\n"
     ]
    },
    {
     "data": {
      "text/plain": [
       "<keras.callbacks.History at 0x7f018dd6fd30>"
      ]
     },
     "execution_count": 33,
     "metadata": {
      "tags": []
     },
     "output_type": "execute_result"
    },
    {
     "data": {
      "image/png": "[encoded data removed]",
      "text/plain": [
       "<Figure size 864x360 with 2 Axes>"
      ]
     },
     "metadata": {
      "tags": []
     },
     "output_type": "display_data"
    }
   ],
   "source": [
    "########################\n",
    "model = Sequential()\n",
    "model.add(get_embedding_layer_globve_trainable())\n",
    "model.add(LSTM(128, dropout=0.2, recurrent_dropout=0.2, return_sequences=True))\n",
    "model.add(LSTM(128, dropout=0.2, recurrent_dropout=0.2))\n",
    "model.add(Dense(len(label_id_to_str), activation='softmax'))\n",
    "\n",
    "evaluateModel(model, \"stacked lstm + GlobVe Embedding Retrainable\", EPOCHS, BATCH_SIZE, train_texts_cleaned, train_labels_id, test_texts_cleaned, test_labels_id)"
   ]
  },
  {
   "cell_type": "markdown",
   "metadata": {
    "id": "UyXoifEmaHTA"
   },
   "source": [
    "## Conv1d with retrained embedding\n",
    "\n",
    "---\n",
    "\n"
   ]
  },
  {
   "cell_type": "code",
   "execution_count": null,
   "metadata": {
    "colab": {
     "base_uri": "https://localhost:8080/",
     "height": 1988
    },
    "id": "LB1Gkq73RaLg",
    "outputId": "7b06cf34-f4bf-4989-87e9-31a1adb77b4d"
   },
   "outputs": [
    {
     "name": "stdout",
     "output_type": "stream",
     "text": [
      "\n",
      "\n",
      "#################### Conv1d with retrained embedding ####################\n",
      "_________________________________________________________________\n",
      "Layer (type)                 Output Shape              Param #   \n",
      "=================================================================\n",
      "embedding_29 (Embedding)     (None, 128, 100)          3000000   \n",
      "_________________________________________________________________\n",
      "conv1d_3 (Conv1D)            (None, 125, 128)          51328     \n",
      "_________________________________________________________________\n",
      "max_pooling1d_3 (MaxPooling1 (None, 31, 128)           0         \n",
      "_________________________________________________________________\n",
      "conv1d_4 (Conv1D)            (None, 28, 128)           65664     \n",
      "_________________________________________________________________\n",
      "max_pooling1d_4 (MaxPooling1 (None, 5, 128)            0         \n",
      "_________________________________________________________________\n",
      "conv1d_5 (Conv1D)            (None, 1, 128)            82048     \n",
      "_________________________________________________________________\n",
      "global_max_pooling1d_1 (Glob (None, 128)               0         \n",
      "_________________________________________________________________\n",
      "dense_44 (Dense)             (None, 128)               16512     \n",
      "_________________________________________________________________\n",
      "dense_45 (Dense)             (None, 20)                2580      \n",
      "=================================================================\n",
      "Total params: 3,218,132\n",
      "Trainable params: 3,218,132\n",
      "Non-trainable params: 0\n",
      "_________________________________________________________________\n",
      "None\n",
      "WARNING:tensorflow:From /usr/local/lib/python3.6/dist-packages/tensorflow/python/ops/math_grad.py:102: div (from tensorflow.python.ops.math_ops) is deprecated and will be removed in a future version.\n",
      "Instructions for updating:\n",
      "Deprecated in favor of operator or tf.math.divide.\n",
      "Train on 15076 samples, validate on 3770 samples\n",
      "Epoch 1/30\n",
      "15076/15076 [==============================] - 10s 656us/step - loss: 2.5712 - acc: 0.1784 - val_loss: 2.0941 - val_acc: 0.3048\n",
      "Epoch 2/30\n",
      "15076/15076 [==============================] - 1s 52us/step - loss: 1.8816 - acc: 0.3847 - val_loss: 1.7966 - val_acc: 0.4236\n",
      "Epoch 3/30\n",
      "15076/15076 [==============================] - 1s 52us/step - loss: 1.5753 - acc: 0.4900 - val_loss: 1.6598 - val_acc: 0.4700\n",
      "Epoch 4/30\n",
      "15076/15076 [==============================] - 1s 52us/step - loss: 1.3685 - acc: 0.5605 - val_loss: 1.5998 - val_acc: 0.5032\n",
      "Epoch 5/30\n",
      "15076/15076 [==============================] - 1s 52us/step - loss: 1.1716 - acc: 0.6278 - val_loss: 1.6200 - val_acc: 0.5133\n",
      "Epoch 6/30\n",
      "15076/15076 [==============================] - 1s 51us/step - loss: 1.0277 - acc: 0.6748 - val_loss: 1.6456 - val_acc: 0.5130\n",
      "Epoch 7/30\n",
      "15076/15076 [==============================] - 1s 52us/step - loss: 0.8768 - acc: 0.7291 - val_loss: 1.7981 - val_acc: 0.5154\n",
      "Epoch 8/30\n",
      "15076/15076 [==============================] - 1s 52us/step - loss: 0.7639 - acc: 0.7669 - val_loss: 1.9434 - val_acc: 0.5172\n",
      "Epoch 9/30\n",
      "15076/15076 [==============================] - 1s 52us/step - loss: 0.6784 - acc: 0.7967 - val_loss: 2.0872 - val_acc: 0.5180\n",
      "Epoch 10/30\n",
      "15076/15076 [==============================] - 1s 52us/step - loss: 0.6200 - acc: 0.8141 - val_loss: 2.1778 - val_acc: 0.5297\n",
      "Epoch 11/30\n",
      "15076/15076 [==============================] - 1s 53us/step - loss: 0.5735 - acc: 0.8287 - val_loss: 2.4144 - val_acc: 0.5225\n",
      "Epoch 12/30\n",
      "15076/15076 [==============================] - 1s 56us/step - loss: 0.5734 - acc: 0.8241 - val_loss: 2.4836 - val_acc: 0.5167\n",
      "Epoch 13/30\n",
      "15076/15076 [==============================] - 1s 56us/step - loss: 0.5533 - acc: 0.8310 - val_loss: 2.6132 - val_acc: 0.5196\n",
      "Epoch 14/30\n",
      "15076/15076 [==============================] - 1s 57us/step - loss: 0.5322 - acc: 0.8397 - val_loss: 2.7584 - val_acc: 0.5172\n",
      "Epoch 15/30\n",
      "15076/15076 [==============================] - 1s 56us/step - loss: 0.5197 - acc: 0.8419 - val_loss: 2.9014 - val_acc: 0.5183\n",
      "Epoch 16/30\n",
      "15076/15076 [==============================] - 1s 56us/step - loss: 0.5143 - acc: 0.8430 - val_loss: 3.0349 - val_acc: 0.5149\n",
      "Epoch 17/30\n",
      "15076/15076 [==============================] - 1s 56us/step - loss: 0.5305 - acc: 0.8363 - val_loss: 2.9253 - val_acc: 0.5167\n",
      "Epoch 18/30\n",
      "15076/15076 [==============================] - 1s 56us/step - loss: 0.5156 - acc: 0.8423 - val_loss: 3.0236 - val_acc: 0.5151\n",
      "Epoch 19/30\n",
      "15076/15076 [==============================] - 1s 56us/step - loss: 0.5035 - acc: 0.8447 - val_loss: 3.0645 - val_acc: 0.5225\n",
      "Epoch 20/30\n",
      "15076/15076 [==============================] - 1s 57us/step - loss: 0.5059 - acc: 0.8455 - val_loss: 3.1364 - val_acc: 0.5188\n",
      "Epoch 21/30\n",
      "15076/15076 [==============================] - 1s 56us/step - loss: 0.5008 - acc: 0.8466 - val_loss: 3.2239 - val_acc: 0.5149\n",
      "Epoch 22/30\n",
      "15076/15076 [==============================] - 1s 56us/step - loss: 0.4992 - acc: 0.8470 - val_loss: 3.3426 - val_acc: 0.5127\n",
      "Epoch 23/30\n",
      "15076/15076 [==============================] - 1s 55us/step - loss: 0.4973 - acc: 0.8478 - val_loss: 3.3127 - val_acc: 0.5202\n",
      "Epoch 24/30\n",
      "15076/15076 [==============================] - 1s 53us/step - loss: 0.5054 - acc: 0.8440 - val_loss: 3.3110 - val_acc: 0.5127\n",
      "Epoch 25/30\n",
      "15076/15076 [==============================] - 1s 52us/step - loss: 0.5029 - acc: 0.8449 - val_loss: 3.3612 - val_acc: 0.5151\n",
      "Epoch 26/30\n",
      "15076/15076 [==============================] - 1s 52us/step - loss: 0.4993 - acc: 0.8467 - val_loss: 3.4176 - val_acc: 0.4923\n",
      "Epoch 27/30\n",
      "15076/15076 [==============================] - 1s 52us/step - loss: 0.5009 - acc: 0.8459 - val_loss: 3.6300 - val_acc: 0.5019\n",
      "Epoch 28/30\n",
      "15076/15076 [==============================] - 1s 52us/step - loss: 0.5199 - acc: 0.8387 - val_loss: 3.4191 - val_acc: 0.5040\n",
      "Epoch 29/30\n",
      "15076/15076 [==============================] - 1s 52us/step - loss: 0.5169 - acc: 0.8396 - val_loss: 3.2817 - val_acc: 0.5225\n",
      "Epoch 30/30\n",
      "15076/15076 [==============================] - 1s 53us/step - loss: 0.5094 - acc: 0.8424 - val_loss: 3.3194 - val_acc: 0.5151\n",
      "3770/3770 [==============================] - 0s 110us/step\n"
     ]
    },
    {
     "data": {
      "text/plain": [
       "<keras.callbacks.History at 0x7f018d7dc8d0>"
      ]
     },
     "execution_count": 34,
     "metadata": {
      "tags": []
     },
     "output_type": "execute_result"
    },
    {
     "data": {
      "image/png": "[encoded data removed]",
      "text/plain": [
       "<Figure size 864x360 with 2 Axes>"
      ]
     },
     "metadata": {
      "tags": []
     },
     "output_type": "display_data"
    }
   ],
   "source": [
    "\n",
    "###############################################\n",
    "# train a 1D convnet with global maxpooling\n",
    "model = Sequential()\n",
    "model.add(get_embedding_layer_globve_trainable())\n",
    "model.add(Conv1D(128, 4, activation='relu'))\n",
    "# max pooling ist ein subsampling mit max(), schneller, genauer\n",
    "model.add(MaxPooling1D(4))\n",
    "model.add(Conv1D(128, 4, activation='relu'))\n",
    "model.add(MaxPooling1D(5))\n",
    "model.add(Conv1D(128, 5, activation='relu'))\n",
    "model.add(GlobalMaxPooling1D())\n",
    "model.add(Dense(128, activation='relu'))\n",
    "# this is the output layer. it has as many neurons as we have labels\n",
    "model.add(Dense(len(label_id_to_str), activation='softmax'))\n",
    "\n",
    "evaluateModel(model, \"Conv1d with retrained embedding\", EPOCHS, BATCH_SIZE, train_texts_cleaned, train_labels_id, test_texts_cleaned, test_labels_id)"
   ]
  },
  {
   "cell_type": "markdown",
   "metadata": {
    "id": "TS1Qp9wkcz_f"
   },
   "source": [
    "## simple dense layer neuronal network\n",
    "\n",
    "---\n",
    "\n"
   ]
  },
  {
   "cell_type": "code",
   "execution_count": null,
   "metadata": {
    "colab": {
     "base_uri": "https://localhost:8080/",
     "height": 1747
    },
    "id": "hxRv_4VtNAYX",
    "outputId": "546e5173-4f95-45aa-aa26-8e86f39d1d84"
   },
   "outputs": [
    {
     "name": "stdout",
     "output_type": "stream",
     "text": [
      "\n",
      "\n",
      "#################### simple dense layer neuronal network ####################\n",
      "_________________________________________________________________\n",
      "Layer (type)                 Output Shape              Param #   \n",
      "=================================================================\n",
      "embedding_1 (Embedding)      (None, 128, 100)          3000000   \n",
      "_________________________________________________________________\n",
      "dense_46 (Dense)             (None, 128, 256)          25856     \n",
      "_________________________________________________________________\n",
      "flatten_11 (Flatten)         (None, 32768)             0         \n",
      "_________________________________________________________________\n",
      "dense_47 (Dense)             (None, 20)                655380    \n",
      "=================================================================\n",
      "Total params: 3,681,236\n",
      "Trainable params: 681,236\n",
      "Non-trainable params: 3,000,000\n",
      "_________________________________________________________________\n",
      "None\n",
      "Train on 15076 samples, validate on 3770 samples\n",
      "Epoch 1/30\n",
      "15076/15076 [==============================] - 8s 539us/step - loss: 2.2914 - acc: 0.3102 - val_loss: 1.6987 - val_acc: 0.4655\n",
      "Epoch 2/30\n",
      "15076/15076 [==============================] - 0s 30us/step - loss: 1.2450 - acc: 0.6390 - val_loss: 1.5722 - val_acc: 0.5095\n",
      "Epoch 3/30\n",
      "15076/15076 [==============================] - 0s 29us/step - loss: 0.9056 - acc: 0.7527 - val_loss: 1.5419 - val_acc: 0.5212\n",
      "Epoch 4/30\n",
      "15076/15076 [==============================] - 0s 29us/step - loss: 0.7175 - acc: 0.8101 - val_loss: 1.5506 - val_acc: 0.5337\n",
      "Epoch 5/30\n",
      "15076/15076 [==============================] - 0s 29us/step - loss: 0.5913 - acc: 0.8526 - val_loss: 1.6198 - val_acc: 0.5228\n",
      "Epoch 6/30\n",
      "15076/15076 [==============================] - 0s 30us/step - loss: 0.5030 - acc: 0.8793 - val_loss: 1.6687 - val_acc: 0.5279\n",
      "Epoch 7/30\n",
      "15076/15076 [==============================] - 0s 29us/step - loss: 0.4327 - acc: 0.8983 - val_loss: 1.7219 - val_acc: 0.5271\n",
      "Epoch 8/30\n",
      "15076/15076 [==============================] - 0s 29us/step - loss: 0.3743 - acc: 0.9152 - val_loss: 1.8222 - val_acc: 0.5207\n",
      "Epoch 9/30\n",
      "15076/15076 [==============================] - 0s 29us/step - loss: 0.3366 - acc: 0.9260 - val_loss: 1.8725 - val_acc: 0.5207\n",
      "Epoch 10/30\n",
      "15076/15076 [==============================] - 0s 29us/step - loss: 0.2996 - acc: 0.9348 - val_loss: 1.9533 - val_acc: 0.5146\n",
      "Epoch 11/30\n",
      "15076/15076 [==============================] - 0s 29us/step - loss: 0.2691 - acc: 0.9420 - val_loss: 2.0051 - val_acc: 0.5133\n",
      "Epoch 12/30\n",
      "15076/15076 [==============================] - 0s 29us/step - loss: 0.2457 - acc: 0.9467 - val_loss: 2.0794 - val_acc: 0.5154\n",
      "Epoch 13/30\n",
      "15076/15076 [==============================] - 0s 29us/step - loss: 0.2278 - acc: 0.9518 - val_loss: 2.1540 - val_acc: 0.5149\n",
      "Epoch 14/30\n",
      "15076/15076 [==============================] - 0s 29us/step - loss: 0.2110 - acc: 0.9542 - val_loss: 2.2170 - val_acc: 0.5098\n",
      "Epoch 15/30\n",
      "15076/15076 [==============================] - 0s 29us/step - loss: 0.1961 - acc: 0.9572 - val_loss: 2.2694 - val_acc: 0.5122\n",
      "Epoch 16/30\n",
      "15076/15076 [==============================] - 0s 29us/step - loss: 0.1851 - acc: 0.9598 - val_loss: 2.3620 - val_acc: 0.5061\n",
      "Epoch 17/30\n",
      "15076/15076 [==============================] - 0s 29us/step - loss: 0.1754 - acc: 0.9615 - val_loss: 2.3679 - val_acc: 0.5058\n",
      "Epoch 18/30\n",
      "15076/15076 [==============================] - 0s 29us/step - loss: 0.1680 - acc: 0.9623 - val_loss: 2.4551 - val_acc: 0.5056\n",
      "Epoch 19/30\n",
      "15076/15076 [==============================] - 0s 29us/step - loss: 0.1593 - acc: 0.9641 - val_loss: 2.4953 - val_acc: 0.5019\n",
      "Epoch 20/30\n",
      "15076/15076 [==============================] - 0s 29us/step - loss: 0.1534 - acc: 0.9648 - val_loss: 2.5724 - val_acc: 0.5003\n",
      "Epoch 21/30\n",
      "15076/15076 [==============================] - 0s 29us/step - loss: 0.1476 - acc: 0.9658 - val_loss: 2.5865 - val_acc: 0.5029\n",
      "Epoch 22/30\n",
      "15076/15076 [==============================] - 0s 29us/step - loss: 0.1427 - acc: 0.9666 - val_loss: 2.6585 - val_acc: 0.4973\n",
      "Epoch 23/30\n",
      "15076/15076 [==============================] - 0s 29us/step - loss: 0.1386 - acc: 0.9672 - val_loss: 2.7263 - val_acc: 0.4992\n",
      "Epoch 24/30\n",
      "15076/15076 [==============================] - 0s 29us/step - loss: 0.1355 - acc: 0.9676 - val_loss: 2.7405 - val_acc: 0.4947\n",
      "Epoch 25/30\n",
      "15076/15076 [==============================] - 0s 30us/step - loss: 0.1317 - acc: 0.9686 - val_loss: 2.8088 - val_acc: 0.4947\n",
      "Epoch 26/30\n",
      "15076/15076 [==============================] - 0s 31us/step - loss: 0.1286 - acc: 0.9688 - val_loss: 2.8526 - val_acc: 0.4920\n",
      "Epoch 27/30\n",
      "15076/15076 [==============================] - 0s 29us/step - loss: 0.1260 - acc: 0.9690 - val_loss: 2.8718 - val_acc: 0.4936\n",
      "Epoch 28/30\n",
      "15076/15076 [==============================] - 0s 29us/step - loss: 0.2239 - acc: 0.9518 - val_loss: 3.6615 - val_acc: 0.4446\n",
      "Epoch 29/30\n",
      "15076/15076 [==============================] - 0s 28us/step - loss: 0.4845 - acc: 0.8890 - val_loss: 2.6939 - val_acc: 0.4963\n",
      "Epoch 30/30\n",
      "15076/15076 [==============================] - 0s 29us/step - loss: 0.2092 - acc: 0.9510 - val_loss: 2.7243 - val_acc: 0.5109\n",
      "3770/3770 [==============================] - 0s 58us/step\n"
     ]
    },
    {
     "data": {
      "text/plain": [
       "<keras.callbacks.History at 0x7f018d1630f0>"
      ]
     },
     "execution_count": 35,
     "metadata": {
      "tags": []
     },
     "output_type": "execute_result"
    },
    {
     "data": {
      "image/png": "[encoded data removed]",
      "text/plain": [
       "<Figure size 864x360 with 2 Axes>"
      ]
     },
     "metadata": {
      "tags": []
     },
     "output_type": "display_data"
    }
   ],
   "source": [
    "###############\n",
    "#####Summation#\n",
    "model = Sequential()\n",
    "model.add(embedding_layer_globve)\n",
    "model.add(Dense(256, activation='relu'))\n",
    "model.add(Flatten())\n",
    "model.add(Dense(len(label_id_to_str), activation='softmax'))\n",
    "evaluateModel(model, \"simple dense layer neuronal network\", EPOCHS, BATCH_SIZE, train_texts_cleaned, train_labels_id, test_texts_cleaned, test_labels_id)\n"
   ]
  },
  {
   "cell_type": "markdown",
   "metadata": {
    "id": "gGmr3a7Hcj9A"
   },
   "source": [
    "## BOW with dense 1024\n",
    "\n",
    "---\n",
    "\n"
   ]
  },
  {
   "cell_type": "code",
   "execution_count": null,
   "metadata": {
    "colab": {
     "base_uri": "https://localhost:8080/",
     "height": 1679
    },
    "id": "VHx9kspKkqaG",
    "outputId": "abc8d39d-2bca-45dd-83dd-c21b064047a6"
   },
   "outputs": [
    {
     "name": "stdout",
     "output_type": "stream",
     "text": [
      "\n",
      "\n",
      "#################### bag of words dense 1024 ####################\n",
      "_________________________________________________________________\n",
      "Layer (type)                 Output Shape              Param #   \n",
      "=================================================================\n",
      "dense_48 (Dense)             (None, 1024)              30721024  \n",
      "_________________________________________________________________\n",
      "dense_49 (Dense)             (None, 20)                20500     \n",
      "=================================================================\n",
      "Total params: 30,741,524\n",
      "Trainable params: 30,741,524\n",
      "Non-trainable params: 0\n",
      "_________________________________________________________________\n",
      "None\n",
      "Train on 15076 samples, validate on 3770 samples\n",
      "Epoch 1/30\n",
      "15076/15076 [==============================] - 15s 975us/step - loss: 1.7541 - acc: 0.5956 - val_loss: 1.1648 - val_acc: 0.6942\n",
      "Epoch 2/30\n",
      "15076/15076 [==============================] - 6s 397us/step - loss: 0.7531 - acc: 0.8112 - val_loss: 1.0484 - val_acc: 0.7154\n",
      "Epoch 3/30\n",
      "15076/15076 [==============================] - 6s 402us/step - loss: 0.4921 - acc: 0.8817 - val_loss: 1.0258 - val_acc: 0.7106\n",
      "Epoch 4/30\n",
      "15076/15076 [==============================] - 6s 384us/step - loss: 0.3609 - acc: 0.9171 - val_loss: 1.0585 - val_acc: 0.7034\n",
      "Epoch 5/30\n",
      "15076/15076 [==============================] - 6s 378us/step - loss: 0.2829 - acc: 0.9373 - val_loss: 1.1080 - val_acc: 0.6973\n",
      "Epoch 6/30\n",
      "15076/15076 [==============================] - 6s 381us/step - loss: 0.2319 - acc: 0.9487 - val_loss: 1.1638 - val_acc: 0.6923\n",
      "Epoch 7/30\n",
      "15076/15076 [==============================] - 6s 382us/step - loss: 0.2007 - acc: 0.9541 - val_loss: 1.2203 - val_acc: 0.6883\n",
      "Epoch 8/30\n",
      "15076/15076 [==============================] - 6s 381us/step - loss: 0.1801 - acc: 0.9583 - val_loss: 1.2739 - val_acc: 0.6822\n",
      "Epoch 9/30\n",
      "15076/15076 [==============================] - 6s 380us/step - loss: 0.1654 - acc: 0.9613 - val_loss: 1.3219 - val_acc: 0.6793\n",
      "Epoch 10/30\n",
      "15076/15076 [==============================] - 6s 379us/step - loss: 0.1545 - acc: 0.9635 - val_loss: 1.3768 - val_acc: 0.6785\n",
      "Epoch 11/30\n",
      "15076/15076 [==============================] - 6s 380us/step - loss: 0.1462 - acc: 0.9640 - val_loss: 1.4337 - val_acc: 0.6735\n",
      "Epoch 12/30\n",
      "15076/15076 [==============================] - 6s 376us/step - loss: 0.1407 - acc: 0.9654 - val_loss: 1.4887 - val_acc: 0.6690\n",
      "Epoch 13/30\n",
      "15076/15076 [==============================] - 6s 380us/step - loss: 0.1352 - acc: 0.9660 - val_loss: 1.5298 - val_acc: 0.6679\n",
      "Epoch 14/30\n",
      "15076/15076 [==============================] - 6s 381us/step - loss: 0.1317 - acc: 0.9666 - val_loss: 1.5846 - val_acc: 0.6655\n",
      "Epoch 15/30\n",
      "15076/15076 [==============================] - 6s 383us/step - loss: 0.1293 - acc: 0.9664 - val_loss: 1.6350 - val_acc: 0.6602\n",
      "Epoch 16/30\n",
      "15076/15076 [==============================] - 6s 388us/step - loss: 0.1263 - acc: 0.9670 - val_loss: 1.6645 - val_acc: 0.6610\n",
      "Epoch 17/30\n",
      "15076/15076 [==============================] - 6s 395us/step - loss: 0.1236 - acc: 0.9676 - val_loss: 1.7157 - val_acc: 0.6592\n",
      "Epoch 18/30\n",
      "15076/15076 [==============================] - 6s 387us/step - loss: 0.1218 - acc: 0.9678 - val_loss: 1.7576 - val_acc: 0.6578\n",
      "Epoch 19/30\n",
      "15076/15076 [==============================] - 6s 379us/step - loss: 0.1202 - acc: 0.9679 - val_loss: 1.8078 - val_acc: 0.6525\n",
      "Epoch 20/30\n",
      "15076/15076 [==============================] - 6s 377us/step - loss: 0.1185 - acc: 0.9682 - val_loss: 1.8335 - val_acc: 0.6544\n",
      "Epoch 21/30\n",
      "15076/15076 [==============================] - 6s 381us/step - loss: 0.1171 - acc: 0.9684 - val_loss: 1.8747 - val_acc: 0.6517\n",
      "Epoch 22/30\n",
      "15076/15076 [==============================] - 6s 379us/step - loss: 0.1166 - acc: 0.9683 - val_loss: 1.9105 - val_acc: 0.6499\n",
      "Epoch 23/30\n",
      "15076/15076 [==============================] - 6s 381us/step - loss: 0.1156 - acc: 0.9682 - val_loss: 1.9557 - val_acc: 0.6467\n",
      "Epoch 24/30\n",
      "15076/15076 [==============================] - 6s 380us/step - loss: 0.1154 - acc: 0.9674 - val_loss: 1.9875 - val_acc: 0.6483\n",
      "Epoch 25/30\n",
      "15076/15076 [==============================] - 6s 381us/step - loss: 0.1139 - acc: 0.9686 - val_loss: 2.0287 - val_acc: 0.6467\n",
      "Epoch 26/30\n",
      "15076/15076 [==============================] - 6s 377us/step - loss: 0.1136 - acc: 0.9684 - val_loss: 2.0449 - val_acc: 0.6454\n",
      "Epoch 27/30\n",
      "15076/15076 [==============================] - 6s 380us/step - loss: 0.1129 - acc: 0.9679 - val_loss: 2.0873 - val_acc: 0.6443\n",
      "Epoch 28/30\n",
      "15076/15076 [==============================] - 6s 375us/step - loss: 0.1500 - acc: 0.9614 - val_loss: 2.2542 - val_acc: 0.6302\n",
      "Epoch 29/30\n",
      "15076/15076 [==============================] - 6s 379us/step - loss: 0.2242 - acc: 0.9408 - val_loss: 2.2179 - val_acc: 0.6329\n",
      "Epoch 30/30\n",
      "15076/15076 [==============================] - 6s 390us/step - loss: 0.1731 - acc: 0.9528 - val_loss: 2.1731 - val_acc: 0.6361\n",
      "3770/3770 [==============================] - 1s 214us/step\n"
     ]
    },
    {
     "data": {
      "text/plain": [
       "<keras.callbacks.History at 0x7f02a9fa1b70>"
      ]
     },
     "execution_count": 36,
     "metadata": {
      "tags": []
     },
     "output_type": "execute_result"
    },
    {
     "data": {
      "image/png": "[encoded data removed]",
      "text/plain": [
       "<Figure size 864x360 with 2 Axes>"
      ]
     },
     "metadata": {
      "tags": []
     },
     "output_type": "display_data"
    }
   ],
   "source": [
    "###############\n",
    "###############\n",
    "#BAG OF WORDS##\n",
    "from keras.layers import Activation, Dense\n",
    "# from https://cloud.google.com/blog/products/gcp/intro-to-text-classification-with-keras-automatically-tagging-stack-overflow-posts\n",
    "\n",
    "train_texts_stemmed_bow = tokenizer.texts_to_matrix(train_texts_stemmed)\n",
    "test_texts_stemmed_bow = tokenizer.texts_to_matrix(test_texts_stemmed)\n",
    "\n",
    "# labels_id one hot encoded output\n",
    "\n",
    "model = Sequential()\n",
    "model.add(Dense(1024, input_shape=(MAX_NUM_WORDS,), activation='relu'))\n",
    "model.add(Dense(len(label_id_to_str), activation='softmax'))\n",
    "\n",
    "evaluateModel(model, \"bag of words dense 1024\", EPOCHS, BATCH_SIZE, train_texts_stemmed_bow, train_labels_id, test_texts_stemmed_bow, test_labels_id)\n"
   ]
  },
  {
   "cell_type": "markdown",
   "metadata": {
    "id": "LfeHVnp6F-2g"
   },
   "source": [
    "## HAN\n",
    "\n",
    "---\n",
    " It uses stacked recurrent neural networks on word level followed by attention model to extract such words that are important to the meaning of the sentence and aggregate the representation of those informative words to form a sentence vector. Then the same procedure applied to the derived sentence vectors which then generate a vector who conceives the meaning of the given document and that vector can be passed further for text classification.\n",
    " The idea behind the paper is “Words make sentences and sentences make documents”. The intent is to derive sentence meaning from the words and then derive the meaning of the document from those sentences. But not all words are equally important. Some of them characterize a sentence more than others. Therefore we use the attention model so that sentence vector can have more attention on “important” words. Attention model consists of two parts: Bidirectional RNN and Attention networks. \n",
    "\n",
    "![alt text](https://cdn-images-1.medium.com/max/1600/1*28XVtq2lOjOmZhcSgu1NmQ.png)"
   ]
  },
  {
   "cell_type": "code",
   "execution_count": null,
   "metadata": {
    "colab": {
     "base_uri": "https://localhost:8080/",
     "height": 34
    },
    "id": "Jl6DC44GKvnc",
    "outputId": "5e0eeaab-bb6f-4f44-f1fd-90dd0ee5d0c1"
   },
   "outputs": [
    {
     "data": {
      "text/plain": [
       "'2.2.4'"
      ]
     },
     "execution_count": 32,
     "metadata": {
      "tags": []
     },
     "output_type": "execute_result"
    }
   ],
   "source": [
    "import keras\n",
    "keras.__version__"
   ]
  },
  {
   "cell_type": "code",
   "execution_count": null,
   "metadata": {
    "id": "6zl4fHVdCcrj"
   },
   "outputs": [],
   "source": [
    "from keras.preprocessing.text import Tokenizer, text_to_word_sequence\n",
    "from keras.preprocessing.sequence import pad_sequences\n",
    "from keras.utils.np_utils import to_categorical\n",
    "\n",
    "from keras import layers\n",
    "from keras.layers import Embedding\n",
    "from keras.layers import Dense, Input, Flatten\n",
    "from keras.layers import Conv1D, MaxPooling1D, Embedding, Dropout, LSTM, GRU, Bidirectional, TimeDistributed\n",
    "from keras.models import Model\n",
    "\n",
    "from keras import backend as K\n",
    "from keras.engine.topology import Layer, InputSpec\n",
    "from keras import initializers\n",
    "\n",
    "MAX_SEQ = 15\n",
    "\n",
    "class AttentionLayer(Layer):\n",
    "    def __init__(self, attention_dim):\n",
    "        self.init = initializers.get('normal')\n",
    "        self.supports_masking = True\n",
    "        self.attention_dim = attention_dim\n",
    "        super(AttentionLayer, self).__init__()\n",
    "\n",
    "    def build(self, input_shape):\n",
    "        assert len(input_shape) == 3\n",
    "        self.W = K.variable(self.init((input_shape[-1], self.attention_dim)))\n",
    "        self.b = K.variable(self.init((self.attention_dim, )))\n",
    "        self.u = K.variable(self.init((self.attention_dim, 1)))\n",
    "        self.trainable_weights = [self.W, self.b, self.u]\n",
    "        super(AttentionLayer, self).build(input_shape)\n",
    "\n",
    "    def compute_mask(self, inputs, mask=None):\n",
    "        return mask\n",
    "\n",
    "    def call(self, x, mask=None):\n",
    "        uit = K.tanh(K.bias_add(K.dot(x, self.W), self.b))\n",
    "        ait = K.dot(uit, self.u)\n",
    "        ait = K.squeeze(ait, -1)\n",
    "\n",
    "        ait = K.exp(ait)\n",
    "\n",
    "        if mask is not None:\n",
    "            ait *= K.cast(mask, K.floatx())\n",
    "        ait /= K.cast(K.sum(ait, axis=1, keepdims=True) + K.epsilon(), K.floatx())\n",
    "        ait = K.expand_dims(ait)\n",
    "        weighted_input = x * ait\n",
    "        output = K.sum(weighted_input, axis=1)\n",
    "\n",
    "        return output\n",
    "\n",
    "    def compute_output_shape(self, input_shape):\n",
    "        return (input_shape[0], input_shape[-1])\n",
    "\n",
    "sentence_input = Input(shape=(MAX_SEQUENCE_LENGTH,), dtype='int32')\n",
    "embedded_sequences = embedding_layer(sentence_input)\n",
    "l_lstm = Bidirectional(GRU(100, return_sequences=True))(embedded_sequences)\n",
    "l_att = AttentionLayer(100)(l_lstm)\n",
    "sentEncoder = Model(sentence_input, l_att)\n",
    "\n",
    "review_input = Input(shape=(MAX_SEQ, MAX_SEQUENCE_LENGTH), dtype='int32')\n",
    "review_encoder = TimeDistributed(sentEncoder)(review_input)\n",
    "l_lstm_sent = Bidirectional(GRU(100, return_sequences=True))(review_encoder)\n",
    "l_att_sent = AttentionLayer(100)(l_lstm_sent)\n",
    "preds = Dense(2, activation='softmax')(l_att_sent)\n",
    "model = Model(review_input, preds)\n",
    "\n",
    "evaluateModel(model, \"Hierarchical Attention Networt\", EPOCHS, BATCH_SIZE, train_texts_stemmed_bow, train_labels_id, test_texts_stemmed_bow, test_labels_id)\n",
    "\n",
    "\n"
   ]
  },
  {
   "cell_type": "markdown",
   "metadata": {
    "id": "-rtIkBz-xWC4"
   },
   "source": [
    "## GridSearchCV\n",
    "\n",
    "---\n",
    "\n"
   ]
  },
  {
   "cell_type": "code",
   "execution_count": null,
   "metadata": {
    "id": "JDHoGVluxUyD"
   },
   "outputs": [],
   "source": [
    "\n",
    "from keras.wrappers.scikit_learn import KerasClassifier\n",
    "from sklearn.model_selection import GridSearchCV\n",
    "\n",
    "def create_model(optimizer='rmsprop', init='glorot_uniform'):\n",
    "    model = Sequential()\n",
    "    model.add(Dense(12, input_shape=(MAX_NUM_WORDS,), kernel_initializer=init, activation='relu'))\n",
    "    model.add(Dense(8, kernel_initializer=init, activation='relu'))\n",
    "    model.add(Dense(num_classes, activation='sigmoid'))\n",
    "    model.compile(loss='binary_crossentropy', optimizer=optimizer, metrics=['accuracy'])\n",
    "    return model\n",
    "\n",
    "np.random.seed(47)\n",
    "model = KerasClassifier(build_fn = create_model, verbose = 0)\n",
    "\n",
    "optimizers = ['rmsprop', 'adam']\n",
    "init = ['glorot_uniform', 'normal', 'uniform']\n",
    "epochs = [50, 100, 150]\n",
    "batches = [5, 10, 20]\n",
    "\n",
    "param_grid = dict(optimizer=optimizers, epochs=epochs, batch_size=batches, init=init)\n",
    "grid = GridSearchCV(estimator=model, param_grid=param_grid)\n",
    "grid_result = grid.fit(x_train, y_train)\n",
    "print(\"Best: %f using %s\" % (grid_result.best_score_, grid_result.best_params_))\n",
    "means = grid_result.cv_results_['mean_test_score']\n",
    "stds = grid_result.cv_results_['std_test_score']\n",
    "params = grid_result.cv_results_['params']\n",
    "\n",
    "for mean, stdev, param in zip(means, stds, params):\n",
    "    print(\"%f (%f) with: %r\" % (mean, stdev, param))\n"
   ]
  },
  {
   "cell_type": "code",
   "execution_count": null,
   "metadata": {
    "id": "87fdKUV8FwVr"
   },
   "outputs": [],
   "source": []
  }
 ],
 "metadata": {
  "accelerator": "TPU",
  "colab": {
   "collapsed_sections": [],
   "name": "20ng_eval.ipynb",
   "provenance": []
  },
  "kernelspec": {
   "display_name": "Python 3",
   "language": "python",
   "name": "python3"
  },
  "language_info": {
   "codemirror_mode": {
    "name": "ipython",
    "version": 3
   },
   "file_extension": ".py",
   "mimetype": "text/x-python",
   "name": "python",
   "nbconvert_exporter": "python",
   "pygments_lexer": "ipython3",
   "version": "3.8.5"
  }
 },
 "nbformat": 4,
 "nbformat_minor": 1
}
